{
 "cells": [
  {
   "cell_type": "code",
   "execution_count": 5,
   "metadata": {},
   "outputs": [],
   "source": [
    "import numpy as np\n",
    "import pandas as pd\n",
    "import seaborn as sns\n",
    "import matplotlib.pyplot as plt"
   ]
  },
  {
   "cell_type": "code",
   "execution_count": 23,
   "metadata": {},
   "outputs": [
    {
     "name": "stderr",
     "output_type": "stream",
     "text": [
      "/var/folders/d5/tjnvwpgj1yddg5dlp5dr9wqr0000gn/T/ipykernel_839/1167546493.py:1: DtypeWarning: Columns (6,8,10) have mixed types. Specify dtype option on import or set low_memory=False.\n",
      "  df = pd.read_csv(\"./lucas_soil_2018.csv\")\n"
     ]
    },
    {
     "data": {
      "application/vnd.microsoft.datawrangler.viewer.v0+json": {
       "columns": [
        {
         "name": "index",
         "rawType": "int64",
         "type": "integer"
        },
        {
         "name": "Depth",
         "rawType": "object",
         "type": "string"
        },
        {
         "name": "POINTID",
         "rawType": "int64",
         "type": "integer"
        },
        {
         "name": "pH_CaCl2",
         "rawType": "float64",
         "type": "float"
        },
        {
         "name": "pH_H2O",
         "rawType": "float64",
         "type": "float"
        },
        {
         "name": "EC",
         "rawType": "float64",
         "type": "float"
        },
        {
         "name": "OC",
         "rawType": "object",
         "type": "string"
        },
        {
         "name": "CaCO3",
         "rawType": "object",
         "type": "string"
        },
        {
         "name": "P",
         "rawType": "object",
         "type": "string"
        },
        {
         "name": "N",
         "rawType": "object",
         "type": "string"
        },
        {
         "name": "K",
         "rawType": "object",
         "type": "string"
        },
        {
         "name": "OC (20-30 cm)",
         "rawType": "object",
         "type": "unknown"
        },
        {
         "name": "CaCO3 (20-30 cm)",
         "rawType": "float64",
         "type": "float"
        },
        {
         "name": "Ox_Al",
         "rawType": "float64",
         "type": "float"
        },
        {
         "name": "Ox_Fe",
         "rawType": "float64",
         "type": "float"
        },
        {
         "name": "NUTS_0_x",
         "rawType": "object",
         "type": "string"
        },
        {
         "name": "NUTS_1",
         "rawType": "object",
         "type": "string"
        },
        {
         "name": "NUTS_2",
         "rawType": "object",
         "type": "string"
        },
        {
         "name": "NUTS_3",
         "rawType": "object",
         "type": "string"
        },
        {
         "name": "TH_LAT",
         "rawType": "float64",
         "type": "float"
        },
        {
         "name": "TH_LONG",
         "rawType": "float64",
         "type": "float"
        },
        {
         "name": "SURVEY_DATE",
         "rawType": "object",
         "type": "string"
        },
        {
         "name": "Elev",
         "rawType": "int64",
         "type": "integer"
        },
        {
         "name": "LC",
         "rawType": "object",
         "type": "string"
        },
        {
         "name": "LU",
         "rawType": "object",
         "type": "string"
        },
        {
         "name": "LC0_Desc",
         "rawType": "object",
         "type": "string"
        },
        {
         "name": "LC1_Desc",
         "rawType": "object",
         "type": "string"
        },
        {
         "name": "LU1_Desc",
         "rawType": "object",
         "type": "string"
        },
        {
         "name": "NUTS_0_y",
         "rawType": "object",
         "type": "string"
        },
        {
         "name": "Lucas2009",
         "rawType": "object",
         "type": "string"
        },
        {
         "name": "Lucas2012",
         "rawType": "object",
         "type": "string"
        },
        {
         "name": "Lucas2015",
         "rawType": "object",
         "type": "string"
        },
        {
         "name": "Lucas2018",
         "rawType": "object",
         "type": "string"
        },
        {
         "name": "Coarse",
         "rawType": "float64",
         "type": "float"
        },
        {
         "name": "Clay",
         "rawType": "float64",
         "type": "float"
        },
        {
         "name": "Sand",
         "rawType": "float64",
         "type": "float"
        },
        {
         "name": "Silt",
         "rawType": "float64",
         "type": "float"
        },
        {
         "name": "PSDAvailable",
         "rawType": "object",
         "type": "string"
        },
        {
         "name": "TextureFromSurvey",
         "rawType": "float64",
         "type": "float"
        },
        {
         "name": "USDA",
         "rawType": "object",
         "type": "unknown"
        },
        {
         "name": "ISSS",
         "rawType": "object",
         "type": "unknown"
        }
       ],
       "conversionMethod": "pd.DataFrame",
       "ref": "f8b45d50-194f-4e20-94f0-1f0a6a3de274",
       "rows": [
        [
         "0",
         "0-20 cm",
         "47862690",
         "4.1",
         "4.81",
         "8.73",
         "12.4",
         "3",
         "< LOD",
         "1.1",
         "101.9",
         null,
         null,
         null,
         null,
         "AT",
         "AT1",
         "AT11",
         "AT113",
         "47.15023795",
         "16.13421178",
         "06-07-18",
         "291",
         "C23",
         "U120",
         "Woodland",
         "Other coniferous woodland",
         "Forestry",
         "AT",
         "YES",
         "NO",
         "YES",
         "YES",
         "2.0",
         "23.0",
         "23.0",
         "54.0",
         "Yes",
         "2009.0",
         "silt loam",
         "silty loam"
        ],
        [
         "1",
         "0-20 cm",
         "47882704",
         "4.1",
         "4.93",
         "5.06",
         "16.7",
         "1",
         "< LOD",
         "1.3",
         "51.2",
         null,
         null,
         null,
         null,
         "AT",
         "AT1",
         "AT11",
         "AT113",
         "47.27427248",
         "16.17535859",
         "06-07-18",
         "373",
         "C21",
         "U120",
         "Woodland",
         "Spruce dominated coniferous woodland",
         "Forestry",
         "AT",
         "YES",
         "NO",
         "YES",
         "YES",
         "6.0",
         "15.0",
         "47.0",
         "38.0",
         "Yes",
         "2009.0",
         "loam",
         "silty loam"
        ],
        [
         "2",
         "0-20 cm",
         "47982688",
         "4.1",
         "4.85",
         "12.53",
         "47.5",
         "1",
         "12.3",
         "3.1",
         "114.8",
         null,
         null,
         null,
         null,
         "AT",
         "AT1",
         "AT11",
         "AT113",
         "47.1232602",
         "16.28969291",
         "02-06-18",
         "246",
         "C33",
         "U120",
         "Woodland",
         "Other mixed woodland",
         "Forestry",
         "AT",
         "YES",
         "NO",
         "YES",
         "YES",
         "4.0",
         "23.0",
         "11.0",
         "66.0",
         "Yes",
         "2009.0",
         "silt loam",
         "silty loam"
        ],
        [
         "3",
         "0-20 cm",
         "48022702",
         "5.5",
         "5.8",
         "21.1",
         "28.1",
         "3",
         "< LOD",
         "2",
         "165.8",
         null,
         null,
         null,
         null,
         "AT",
         "AT1",
         "AT11",
         "AT113",
         "47.24569335",
         "16.35750603",
         "06-07-18",
         "305",
         "C22",
         "U120",
         "Woodland",
         "Pine dominated coniferous woodland",
         "Forestry",
         "AT",
         "NO",
         "NO",
         "NO",
         "YES",
         null,
         null,
         null,
         null,
         "No",
         null,
         null,
         null
        ],
        [
         "4",
         "0-20 cm",
         "48062708",
         "6.1",
         "6.48",
         "10.89",
         "19.4",
         "2",
         "< LOD",
         "2.2",
         "42.1",
         null,
         null,
         null,
         null,
         "AT",
         "AT1",
         "AT11",
         "AT113",
         "47.29637182",
         "16.41678159",
         "05-07-18",
         "335",
         "C22",
         "U120",
         "Woodland",
         "Pine dominated coniferous woodland",
         "Forestry",
         "AT",
         "NO",
         "NO",
         "NO",
         "YES",
         null,
         null,
         null,
         null,
         "No",
         null,
         null,
         null
        ]
       ],
       "shape": {
        "columns": 40,
        "rows": 5
       }
      },
      "text/html": [
       "<div>\n",
       "<style scoped>\n",
       "    .dataframe tbody tr th:only-of-type {\n",
       "        vertical-align: middle;\n",
       "    }\n",
       "\n",
       "    .dataframe tbody tr th {\n",
       "        vertical-align: top;\n",
       "    }\n",
       "\n",
       "    .dataframe thead th {\n",
       "        text-align: right;\n",
       "    }\n",
       "</style>\n",
       "<table border=\"1\" class=\"dataframe\">\n",
       "  <thead>\n",
       "    <tr style=\"text-align: right;\">\n",
       "      <th></th>\n",
       "      <th>Depth</th>\n",
       "      <th>POINTID</th>\n",
       "      <th>pH_CaCl2</th>\n",
       "      <th>pH_H2O</th>\n",
       "      <th>EC</th>\n",
       "      <th>OC</th>\n",
       "      <th>CaCO3</th>\n",
       "      <th>P</th>\n",
       "      <th>N</th>\n",
       "      <th>K</th>\n",
       "      <th>...</th>\n",
       "      <th>Lucas2015</th>\n",
       "      <th>Lucas2018</th>\n",
       "      <th>Coarse</th>\n",
       "      <th>Clay</th>\n",
       "      <th>Sand</th>\n",
       "      <th>Silt</th>\n",
       "      <th>PSDAvailable</th>\n",
       "      <th>TextureFromSurvey</th>\n",
       "      <th>USDA</th>\n",
       "      <th>ISSS</th>\n",
       "    </tr>\n",
       "  </thead>\n",
       "  <tbody>\n",
       "    <tr>\n",
       "      <th>0</th>\n",
       "      <td>0-20 cm</td>\n",
       "      <td>47862690</td>\n",
       "      <td>4.1</td>\n",
       "      <td>4.81</td>\n",
       "      <td>8.73</td>\n",
       "      <td>12.4</td>\n",
       "      <td>3</td>\n",
       "      <td>&lt; LOD</td>\n",
       "      <td>1.1</td>\n",
       "      <td>101.9</td>\n",
       "      <td>...</td>\n",
       "      <td>YES</td>\n",
       "      <td>YES</td>\n",
       "      <td>2.0</td>\n",
       "      <td>23.0</td>\n",
       "      <td>23.0</td>\n",
       "      <td>54.0</td>\n",
       "      <td>Yes</td>\n",
       "      <td>2009.0</td>\n",
       "      <td>silt loam</td>\n",
       "      <td>silty loam</td>\n",
       "    </tr>\n",
       "    <tr>\n",
       "      <th>1</th>\n",
       "      <td>0-20 cm</td>\n",
       "      <td>47882704</td>\n",
       "      <td>4.1</td>\n",
       "      <td>4.93</td>\n",
       "      <td>5.06</td>\n",
       "      <td>16.7</td>\n",
       "      <td>1</td>\n",
       "      <td>&lt; LOD</td>\n",
       "      <td>1.3</td>\n",
       "      <td>51.2</td>\n",
       "      <td>...</td>\n",
       "      <td>YES</td>\n",
       "      <td>YES</td>\n",
       "      <td>6.0</td>\n",
       "      <td>15.0</td>\n",
       "      <td>47.0</td>\n",
       "      <td>38.0</td>\n",
       "      <td>Yes</td>\n",
       "      <td>2009.0</td>\n",
       "      <td>loam</td>\n",
       "      <td>silty loam</td>\n",
       "    </tr>\n",
       "    <tr>\n",
       "      <th>2</th>\n",
       "      <td>0-20 cm</td>\n",
       "      <td>47982688</td>\n",
       "      <td>4.1</td>\n",
       "      <td>4.85</td>\n",
       "      <td>12.53</td>\n",
       "      <td>47.5</td>\n",
       "      <td>1</td>\n",
       "      <td>12.3</td>\n",
       "      <td>3.1</td>\n",
       "      <td>114.8</td>\n",
       "      <td>...</td>\n",
       "      <td>YES</td>\n",
       "      <td>YES</td>\n",
       "      <td>4.0</td>\n",
       "      <td>23.0</td>\n",
       "      <td>11.0</td>\n",
       "      <td>66.0</td>\n",
       "      <td>Yes</td>\n",
       "      <td>2009.0</td>\n",
       "      <td>silt loam</td>\n",
       "      <td>silty loam</td>\n",
       "    </tr>\n",
       "    <tr>\n",
       "      <th>3</th>\n",
       "      <td>0-20 cm</td>\n",
       "      <td>48022702</td>\n",
       "      <td>5.5</td>\n",
       "      <td>5.80</td>\n",
       "      <td>21.10</td>\n",
       "      <td>28.1</td>\n",
       "      <td>3</td>\n",
       "      <td>&lt; LOD</td>\n",
       "      <td>2</td>\n",
       "      <td>165.8</td>\n",
       "      <td>...</td>\n",
       "      <td>NO</td>\n",
       "      <td>YES</td>\n",
       "      <td>NaN</td>\n",
       "      <td>NaN</td>\n",
       "      <td>NaN</td>\n",
       "      <td>NaN</td>\n",
       "      <td>No</td>\n",
       "      <td>NaN</td>\n",
       "      <td>NaN</td>\n",
       "      <td>NaN</td>\n",
       "    </tr>\n",
       "    <tr>\n",
       "      <th>4</th>\n",
       "      <td>0-20 cm</td>\n",
       "      <td>48062708</td>\n",
       "      <td>6.1</td>\n",
       "      <td>6.48</td>\n",
       "      <td>10.89</td>\n",
       "      <td>19.4</td>\n",
       "      <td>2</td>\n",
       "      <td>&lt; LOD</td>\n",
       "      <td>2.2</td>\n",
       "      <td>42.1</td>\n",
       "      <td>...</td>\n",
       "      <td>NO</td>\n",
       "      <td>YES</td>\n",
       "      <td>NaN</td>\n",
       "      <td>NaN</td>\n",
       "      <td>NaN</td>\n",
       "      <td>NaN</td>\n",
       "      <td>No</td>\n",
       "      <td>NaN</td>\n",
       "      <td>NaN</td>\n",
       "      <td>NaN</td>\n",
       "    </tr>\n",
       "  </tbody>\n",
       "</table>\n",
       "<p>5 rows × 40 columns</p>\n",
       "</div>"
      ],
      "text/plain": [
       "     Depth   POINTID  pH_CaCl2  pH_H2O     EC    OC CaCO3      P    N      K  \\\n",
       "0  0-20 cm  47862690       4.1    4.81   8.73  12.4     3  < LOD  1.1  101.9   \n",
       "1  0-20 cm  47882704       4.1    4.93   5.06  16.7     1  < LOD  1.3   51.2   \n",
       "2  0-20 cm  47982688       4.1    4.85  12.53  47.5     1   12.3  3.1  114.8   \n",
       "3  0-20 cm  48022702       5.5    5.80  21.10  28.1     3  < LOD    2  165.8   \n",
       "4  0-20 cm  48062708       6.1    6.48  10.89  19.4     2  < LOD  2.2   42.1   \n",
       "\n",
       "   ... Lucas2015  Lucas2018  Coarse  Clay  Sand  Silt PSDAvailable  \\\n",
       "0  ...       YES        YES     2.0  23.0  23.0  54.0          Yes   \n",
       "1  ...       YES        YES     6.0  15.0  47.0  38.0          Yes   \n",
       "2  ...       YES        YES     4.0  23.0  11.0  66.0          Yes   \n",
       "3  ...        NO        YES     NaN   NaN   NaN   NaN           No   \n",
       "4  ...        NO        YES     NaN   NaN   NaN   NaN           No   \n",
       "\n",
       "  TextureFromSurvey       USDA        ISSS  \n",
       "0            2009.0  silt loam  silty loam  \n",
       "1            2009.0       loam  silty loam  \n",
       "2            2009.0  silt loam  silty loam  \n",
       "3               NaN        NaN         NaN  \n",
       "4               NaN        NaN         NaN  \n",
       "\n",
       "[5 rows x 40 columns]"
      ]
     },
     "execution_count": 23,
     "metadata": {},
     "output_type": "execute_result"
    }
   ],
   "source": [
    "df = pd.read_csv(\"./lucas_soil_2018.csv\")\n",
    "df.head()"
   ]
  },
  {
   "cell_type": "code",
   "execution_count": 24,
   "metadata": {},
   "outputs": [
    {
     "data": {
      "text/plain": [
       "Index(['Depth', 'POINTID', 'pH_CaCl2', 'pH_H2O', 'EC', 'OC', 'CaCO3', 'P', 'N',\n",
       "       'K', 'OC (20-30 cm)', 'CaCO3 (20-30 cm)', 'Ox_Al', 'Ox_Fe', 'NUTS_0_x',\n",
       "       'NUTS_1', 'NUTS_2', 'NUTS_3', 'TH_LAT', 'TH_LONG', 'SURVEY_DATE',\n",
       "       'Elev', 'LC', 'LU', 'LC0_Desc', 'LC1_Desc', 'LU1_Desc', 'NUTS_0_y',\n",
       "       'Lucas2009', 'Lucas2012', 'Lucas2015', 'Lucas2018', 'Coarse', 'Clay',\n",
       "       'Sand', 'Silt', 'PSDAvailable', 'TextureFromSurvey', 'USDA', 'ISSS'],\n",
       "      dtype='object')"
      ]
     },
     "execution_count": 24,
     "metadata": {},
     "output_type": "execute_result"
    }
   ],
   "source": [
    "df.columns"
   ]
  },
  {
   "cell_type": "code",
   "execution_count": 25,
   "metadata": {},
   "outputs": [
    {
     "name": "stdout",
     "output_type": "stream",
     "text": [
      "Index(['Depth', 'POINTID', 'pH_CaCl2', 'pH_H2O', 'EC', 'OC', 'CaCO3', 'P', 'N',\n",
      "       'K', 'OC (20-30 cm)', 'CaCO3 (20-30 cm)', 'Ox_Al', 'Ox_Fe', 'NUTS_1',\n",
      "       'NUTS_2', 'NUTS_3', 'TH_LAT', 'TH_LONG', 'Elev', 'LC', 'LU', 'LC0_Desc',\n",
      "       'LC1_Desc', 'LU1_Desc', 'Coarse', 'Clay', 'Sand', 'Silt', 'USDA',\n",
      "       'ISSS', 'NUTS_0'],\n",
      "      dtype='object')\n"
     ]
    }
   ],
   "source": [
    "df.drop(\n",
    "    columns=[\"Lucas2009\", \"Lucas2015\", \"Lucas2012\", \"Lucas2012\", \"Lucas2018\"],\n",
    "    inplace=True,\n",
    ")\n",
    "df.drop(columns=[\"TextureFromSurvey\", \"PSDAvailable\", \"NUTS_0_y\"], inplace=True)\n",
    "\n",
    "df.drop(columns=[\"SURVEY_DATE\"], inplace=True)\n",
    "df[\"NUTS_0\"] = df[\"NUTS_0_x\"]\n",
    "df.drop(columns=[\"NUTS_0_x\"], inplace=True)\n",
    "print(df.columns)"
   ]
  },
  {
   "cell_type": "code",
   "execution_count": 26,
   "metadata": {},
   "outputs": [],
   "source": [
    "df.replace(\"< LOD\", np.nan, inplace=True)\n",
    "df.replace(\"<  LOD\", np.nan, inplace=True)\n",
    "df.replace(\"<0.0\", np.nan, inplace=True)"
   ]
  },
  {
   "cell_type": "code",
   "execution_count": 27,
   "metadata": {},
   "outputs": [
    {
     "name": "stdout",
     "output_type": "stream",
     "text": [
      "<class 'pandas.core.frame.DataFrame'>\n",
      "RangeIndex: 18984 entries, 0 to 18983\n",
      "Data columns (total 32 columns):\n",
      " #   Column            Non-Null Count  Dtype  \n",
      "---  ------            --------------  -----  \n",
      " 0   Depth             18984 non-null  object \n",
      " 1   POINTID           18984 non-null  int64  \n",
      " 2   pH_CaCl2          18983 non-null  float64\n",
      " 3   pH_H2O            18983 non-null  float64\n",
      " 4   EC                18975 non-null  float64\n",
      " 5   OC                18949 non-null  object \n",
      " 6   CaCO3             11212 non-null  object \n",
      " 7   P                 13981 non-null  object \n",
      " 8   N                 18969 non-null  object \n",
      " 9   K                 18944 non-null  object \n",
      " 10  OC (20-30 cm)     140 non-null    object \n",
      " 11  CaCO3 (20-30 cm)  14 non-null     float64\n",
      " 12  Ox_Al             2510 non-null   float64\n",
      " 13  Ox_Fe             2510 non-null   float64\n",
      " 14  NUTS_1            18984 non-null  object \n",
      " 15  NUTS_2            18984 non-null  object \n",
      " 16  NUTS_3            18984 non-null  object \n",
      " 17  TH_LAT            18984 non-null  float64\n",
      " 18  TH_LONG           18984 non-null  float64\n",
      " 19  Elev              18984 non-null  int64  \n",
      " 20  LC                18984 non-null  object \n",
      " 21  LU                18984 non-null  object \n",
      " 22  LC0_Desc          18984 non-null  object \n",
      " 23  LC1_Desc          18984 non-null  object \n",
      " 24  LU1_Desc          18984 non-null  object \n",
      " 25  Coarse            16275 non-null  float64\n",
      " 26  Clay              16728 non-null  float64\n",
      " 27  Sand              16728 non-null  float64\n",
      " 28  Silt              16728 non-null  float64\n",
      " 29  USDA              16728 non-null  object \n",
      " 30  ISSS              16728 non-null  object \n",
      " 31  NUTS_0            18984 non-null  object \n",
      "dtypes: float64(12), int64(2), object(18)\n",
      "memory usage: 4.6+ MB\n"
     ]
    }
   ],
   "source": [
    "df.info()"
   ]
  },
  {
   "cell_type": "code",
   "execution_count": 28,
   "metadata": {},
   "outputs": [],
   "source": [
    "df[\"CaCO3\"] = df[\"CaCO3\"].astype(float)\n",
    "df[\"P\"] = df[\"P\"].astype(float)\n",
    "df[\"K\"] = df[\"K\"].astype(float)\n",
    "df[\"N\"] = df[\"N\"].astype(float)"
   ]
  },
  {
   "cell_type": "code",
   "execution_count": 29,
   "metadata": {},
   "outputs": [
    {
     "data": {
      "application/vnd.microsoft.datawrangler.viewer.v0+json": {
       "columns": [
        {
         "name": "index",
         "rawType": "object",
         "type": "string"
        },
        {
         "name": "POINTID",
         "rawType": "float64",
         "type": "float"
        },
        {
         "name": "pH_CaCl2",
         "rawType": "float64",
         "type": "float"
        },
        {
         "name": "pH_H2O",
         "rawType": "float64",
         "type": "float"
        },
        {
         "name": "EC",
         "rawType": "float64",
         "type": "float"
        },
        {
         "name": "CaCO3",
         "rawType": "float64",
         "type": "float"
        },
        {
         "name": "P",
         "rawType": "float64",
         "type": "float"
        },
        {
         "name": "N",
         "rawType": "float64",
         "type": "float"
        },
        {
         "name": "K",
         "rawType": "float64",
         "type": "float"
        },
        {
         "name": "CaCO3 (20-30 cm)",
         "rawType": "float64",
         "type": "float"
        },
        {
         "name": "Ox_Al",
         "rawType": "float64",
         "type": "float"
        },
        {
         "name": "Ox_Fe",
         "rawType": "float64",
         "type": "float"
        },
        {
         "name": "TH_LAT",
         "rawType": "float64",
         "type": "float"
        },
        {
         "name": "TH_LONG",
         "rawType": "float64",
         "type": "float"
        },
        {
         "name": "Elev",
         "rawType": "float64",
         "type": "float"
        },
        {
         "name": "Coarse",
         "rawType": "float64",
         "type": "float"
        },
        {
         "name": "Clay",
         "rawType": "float64",
         "type": "float"
        },
        {
         "name": "Sand",
         "rawType": "float64",
         "type": "float"
        },
        {
         "name": "Silt",
         "rawType": "float64",
         "type": "float"
        }
       ],
       "conversionMethod": "pd.DataFrame",
       "ref": "4174497e-12a8-4b6c-a637-76fabffbe089",
       "rows": [
        [
         "count",
         "18984.0",
         "18983.0",
         "18983.0",
         "18975.0",
         "11212.0",
         "13981.0",
         "18969.0",
         "18944.0",
         "14.0",
         "2510.0",
         "2510.0",
         "18984.0",
         "18984.0",
         "18984.0",
         "16275.0",
         "16728.0",
         "16728.0",
         "16728.0"
        ],
        [
         "mean",
         "42770796.926253684",
         "5.706426802928936",
         "6.259459516409419",
         "18.389963899868246",
         "96.21356582233321",
         "34.72117159001502",
         "3.154604881649006",
         "204.4566379856419",
         "288.85714285714283",
         "1.1714741035856573",
         "2.5471713147410355",
         "48.689184245898645",
         "10.330165917798462",
         "613.188211125158",
         "15.694869431643625",
         "19.974772835963655",
         "40.96520803443329",
         "39.05565518890483"
        ],
        [
         "std",
         "8350826.616587244",
         "1.3985862168134038",
         "1.3194652235541928",
         "25.560630176875826",
         "164.63216266764422",
         "27.546878827440985",
         "3.7166076551380143",
         "207.06942690462847",
         "236.0211389303467",
         "1.2431105552032953",
         "2.431785573331882",
         "7.77919537804052",
         "11.192491596447942",
         "1461.6816372547958",
         "12.815397219705245",
         "13.642703350295992",
         "24.88792328576916",
         "17.497354692532028"
        ],
        [
         "min",
         "26521970.0",
         "2.6",
         "3.34",
         "0.24",
         "1.0",
         "0.3",
         "0.2",
         "6.2",
         "1.0",
         "0.0",
         "0.1",
         "34.69026961",
         "-10.14909922",
         "-55.0",
         "1.0",
         "0.0",
         "0.0",
         "0.0"
        ],
        [
         "25%",
         "34922926.0",
         "4.5",
         "5.12",
         "8.094999999999999",
         "1.0",
         "16.6",
         "1.3",
         "85.0",
         "64.5",
         "0.6",
         "1.0",
         "42.229368552500006",
         "-0.74536502475",
         "124.0",
         "6.0",
         "9.0",
         "20.0",
         "26.0"
        ],
        [
         "50%",
         "44663907.0",
         "5.8",
         "6.29",
         "13.95",
         "5.0",
         "26.5",
         "2.0",
         "153.0",
         "287.5",
         "0.9",
         "1.9",
         "47.338687795",
         "12.078145815",
         "261.0",
         "12.0",
         "18.0",
         "39.0",
         "39.0"
        ],
        [
         "75%",
         "49922785.0",
         "7.1",
         "7.5",
         "20.6",
         "123.0",
         "44.0",
         "3.4",
         "261.0",
         "417.75",
         "1.3",
         "3.3",
         "53.4242399175",
         "20.647825425",
         "666.25",
         "21.0",
         "28.0",
         "60.0",
         "51.0"
        ],
        [
         "max",
         "64981672.0",
         "9.8",
         "10.43",
         "1295.6",
         "926.0",
         "515.0",
         "46.5",
         "7578.8",
         "702.0",
         "34.7",
         "35.8",
         "69.9565147",
         "34.02966036",
         "11464.0",
         "98.0",
         "95.0",
         "100.0",
         "93.0"
        ]
       ],
       "shape": {
        "columns": 18,
        "rows": 8
       }
      },
      "text/html": [
       "<div>\n",
       "<style scoped>\n",
       "    .dataframe tbody tr th:only-of-type {\n",
       "        vertical-align: middle;\n",
       "    }\n",
       "\n",
       "    .dataframe tbody tr th {\n",
       "        vertical-align: top;\n",
       "    }\n",
       "\n",
       "    .dataframe thead th {\n",
       "        text-align: right;\n",
       "    }\n",
       "</style>\n",
       "<table border=\"1\" class=\"dataframe\">\n",
       "  <thead>\n",
       "    <tr style=\"text-align: right;\">\n",
       "      <th></th>\n",
       "      <th>POINTID</th>\n",
       "      <th>pH_CaCl2</th>\n",
       "      <th>pH_H2O</th>\n",
       "      <th>EC</th>\n",
       "      <th>CaCO3</th>\n",
       "      <th>P</th>\n",
       "      <th>N</th>\n",
       "      <th>K</th>\n",
       "      <th>CaCO3 (20-30 cm)</th>\n",
       "      <th>Ox_Al</th>\n",
       "      <th>Ox_Fe</th>\n",
       "      <th>TH_LAT</th>\n",
       "      <th>TH_LONG</th>\n",
       "      <th>Elev</th>\n",
       "      <th>Coarse</th>\n",
       "      <th>Clay</th>\n",
       "      <th>Sand</th>\n",
       "      <th>Silt</th>\n",
       "    </tr>\n",
       "  </thead>\n",
       "  <tbody>\n",
       "    <tr>\n",
       "      <th>count</th>\n",
       "      <td>1.898400e+04</td>\n",
       "      <td>18983.000000</td>\n",
       "      <td>18983.000000</td>\n",
       "      <td>18975.000000</td>\n",
       "      <td>11212.000000</td>\n",
       "      <td>13981.000000</td>\n",
       "      <td>18969.000000</td>\n",
       "      <td>18944.000000</td>\n",
       "      <td>14.000000</td>\n",
       "      <td>2510.000000</td>\n",
       "      <td>2510.000000</td>\n",
       "      <td>18984.000000</td>\n",
       "      <td>18984.000000</td>\n",
       "      <td>18984.000000</td>\n",
       "      <td>16275.000000</td>\n",
       "      <td>16728.000000</td>\n",
       "      <td>16728.000000</td>\n",
       "      <td>16728.000000</td>\n",
       "    </tr>\n",
       "    <tr>\n",
       "      <th>mean</th>\n",
       "      <td>4.277080e+07</td>\n",
       "      <td>5.706427</td>\n",
       "      <td>6.259460</td>\n",
       "      <td>18.389964</td>\n",
       "      <td>96.213566</td>\n",
       "      <td>34.721172</td>\n",
       "      <td>3.154605</td>\n",
       "      <td>204.456638</td>\n",
       "      <td>288.857143</td>\n",
       "      <td>1.171474</td>\n",
       "      <td>2.547171</td>\n",
       "      <td>48.689184</td>\n",
       "      <td>10.330166</td>\n",
       "      <td>613.188211</td>\n",
       "      <td>15.694869</td>\n",
       "      <td>19.974773</td>\n",
       "      <td>40.965208</td>\n",
       "      <td>39.055655</td>\n",
       "    </tr>\n",
       "    <tr>\n",
       "      <th>std</th>\n",
       "      <td>8.350827e+06</td>\n",
       "      <td>1.398586</td>\n",
       "      <td>1.319465</td>\n",
       "      <td>25.560630</td>\n",
       "      <td>164.632163</td>\n",
       "      <td>27.546879</td>\n",
       "      <td>3.716608</td>\n",
       "      <td>207.069427</td>\n",
       "      <td>236.021139</td>\n",
       "      <td>1.243111</td>\n",
       "      <td>2.431786</td>\n",
       "      <td>7.779195</td>\n",
       "      <td>11.192492</td>\n",
       "      <td>1461.681637</td>\n",
       "      <td>12.815397</td>\n",
       "      <td>13.642703</td>\n",
       "      <td>24.887923</td>\n",
       "      <td>17.497355</td>\n",
       "    </tr>\n",
       "    <tr>\n",
       "      <th>min</th>\n",
       "      <td>2.652197e+07</td>\n",
       "      <td>2.600000</td>\n",
       "      <td>3.340000</td>\n",
       "      <td>0.240000</td>\n",
       "      <td>1.000000</td>\n",
       "      <td>0.300000</td>\n",
       "      <td>0.200000</td>\n",
       "      <td>6.200000</td>\n",
       "      <td>1.000000</td>\n",
       "      <td>0.000000</td>\n",
       "      <td>0.100000</td>\n",
       "      <td>34.690270</td>\n",
       "      <td>-10.149099</td>\n",
       "      <td>-55.000000</td>\n",
       "      <td>1.000000</td>\n",
       "      <td>0.000000</td>\n",
       "      <td>0.000000</td>\n",
       "      <td>0.000000</td>\n",
       "    </tr>\n",
       "    <tr>\n",
       "      <th>25%</th>\n",
       "      <td>3.492293e+07</td>\n",
       "      <td>4.500000</td>\n",
       "      <td>5.120000</td>\n",
       "      <td>8.095000</td>\n",
       "      <td>1.000000</td>\n",
       "      <td>16.600000</td>\n",
       "      <td>1.300000</td>\n",
       "      <td>85.000000</td>\n",
       "      <td>64.500000</td>\n",
       "      <td>0.600000</td>\n",
       "      <td>1.000000</td>\n",
       "      <td>42.229369</td>\n",
       "      <td>-0.745365</td>\n",
       "      <td>124.000000</td>\n",
       "      <td>6.000000</td>\n",
       "      <td>9.000000</td>\n",
       "      <td>20.000000</td>\n",
       "      <td>26.000000</td>\n",
       "    </tr>\n",
       "    <tr>\n",
       "      <th>50%</th>\n",
       "      <td>4.466391e+07</td>\n",
       "      <td>5.800000</td>\n",
       "      <td>6.290000</td>\n",
       "      <td>13.950000</td>\n",
       "      <td>5.000000</td>\n",
       "      <td>26.500000</td>\n",
       "      <td>2.000000</td>\n",
       "      <td>153.000000</td>\n",
       "      <td>287.500000</td>\n",
       "      <td>0.900000</td>\n",
       "      <td>1.900000</td>\n",
       "      <td>47.338688</td>\n",
       "      <td>12.078146</td>\n",
       "      <td>261.000000</td>\n",
       "      <td>12.000000</td>\n",
       "      <td>18.000000</td>\n",
       "      <td>39.000000</td>\n",
       "      <td>39.000000</td>\n",
       "    </tr>\n",
       "    <tr>\n",
       "      <th>75%</th>\n",
       "      <td>4.992278e+07</td>\n",
       "      <td>7.100000</td>\n",
       "      <td>7.500000</td>\n",
       "      <td>20.600000</td>\n",
       "      <td>123.000000</td>\n",
       "      <td>44.000000</td>\n",
       "      <td>3.400000</td>\n",
       "      <td>261.000000</td>\n",
       "      <td>417.750000</td>\n",
       "      <td>1.300000</td>\n",
       "      <td>3.300000</td>\n",
       "      <td>53.424240</td>\n",
       "      <td>20.647825</td>\n",
       "      <td>666.250000</td>\n",
       "      <td>21.000000</td>\n",
       "      <td>28.000000</td>\n",
       "      <td>60.000000</td>\n",
       "      <td>51.000000</td>\n",
       "    </tr>\n",
       "    <tr>\n",
       "      <th>max</th>\n",
       "      <td>6.498167e+07</td>\n",
       "      <td>9.800000</td>\n",
       "      <td>10.430000</td>\n",
       "      <td>1295.600000</td>\n",
       "      <td>926.000000</td>\n",
       "      <td>515.000000</td>\n",
       "      <td>46.500000</td>\n",
       "      <td>7578.800000</td>\n",
       "      <td>702.000000</td>\n",
       "      <td>34.700000</td>\n",
       "      <td>35.800000</td>\n",
       "      <td>69.956515</td>\n",
       "      <td>34.029660</td>\n",
       "      <td>11464.000000</td>\n",
       "      <td>98.000000</td>\n",
       "      <td>95.000000</td>\n",
       "      <td>100.000000</td>\n",
       "      <td>93.000000</td>\n",
       "    </tr>\n",
       "  </tbody>\n",
       "</table>\n",
       "</div>"
      ],
      "text/plain": [
       "            POINTID      pH_CaCl2        pH_H2O            EC         CaCO3  \\\n",
       "count  1.898400e+04  18983.000000  18983.000000  18975.000000  11212.000000   \n",
       "mean   4.277080e+07      5.706427      6.259460     18.389964     96.213566   \n",
       "std    8.350827e+06      1.398586      1.319465     25.560630    164.632163   \n",
       "min    2.652197e+07      2.600000      3.340000      0.240000      1.000000   \n",
       "25%    3.492293e+07      4.500000      5.120000      8.095000      1.000000   \n",
       "50%    4.466391e+07      5.800000      6.290000     13.950000      5.000000   \n",
       "75%    4.992278e+07      7.100000      7.500000     20.600000    123.000000   \n",
       "max    6.498167e+07      9.800000     10.430000   1295.600000    926.000000   \n",
       "\n",
       "                  P             N             K  CaCO3 (20-30 cm)  \\\n",
       "count  13981.000000  18969.000000  18944.000000         14.000000   \n",
       "mean      34.721172      3.154605    204.456638        288.857143   \n",
       "std       27.546879      3.716608    207.069427        236.021139   \n",
       "min        0.300000      0.200000      6.200000          1.000000   \n",
       "25%       16.600000      1.300000     85.000000         64.500000   \n",
       "50%       26.500000      2.000000    153.000000        287.500000   \n",
       "75%       44.000000      3.400000    261.000000        417.750000   \n",
       "max      515.000000     46.500000   7578.800000        702.000000   \n",
       "\n",
       "             Ox_Al        Ox_Fe        TH_LAT       TH_LONG          Elev  \\\n",
       "count  2510.000000  2510.000000  18984.000000  18984.000000  18984.000000   \n",
       "mean      1.171474     2.547171     48.689184     10.330166    613.188211   \n",
       "std       1.243111     2.431786      7.779195     11.192492   1461.681637   \n",
       "min       0.000000     0.100000     34.690270    -10.149099    -55.000000   \n",
       "25%       0.600000     1.000000     42.229369     -0.745365    124.000000   \n",
       "50%       0.900000     1.900000     47.338688     12.078146    261.000000   \n",
       "75%       1.300000     3.300000     53.424240     20.647825    666.250000   \n",
       "max      34.700000    35.800000     69.956515     34.029660  11464.000000   \n",
       "\n",
       "             Coarse          Clay          Sand          Silt  \n",
       "count  16275.000000  16728.000000  16728.000000  16728.000000  \n",
       "mean      15.694869     19.974773     40.965208     39.055655  \n",
       "std       12.815397     13.642703     24.887923     17.497355  \n",
       "min        1.000000      0.000000      0.000000      0.000000  \n",
       "25%        6.000000      9.000000     20.000000     26.000000  \n",
       "50%       12.000000     18.000000     39.000000     39.000000  \n",
       "75%       21.000000     28.000000     60.000000     51.000000  \n",
       "max       98.000000     95.000000    100.000000     93.000000  "
      ]
     },
     "execution_count": 29,
     "metadata": {},
     "output_type": "execute_result"
    }
   ],
   "source": [
    "df.describe()"
   ]
  },
  {
   "cell_type": "code",
   "execution_count": 30,
   "metadata": {},
   "outputs": [
    {
     "name": "stdout",
     "output_type": "stream",
     "text": [
      "Observations: 18984\n",
      "Variables: 32\n",
      "Categorical Columns: 4\n",
      "Numerical Columns: 18\n",
      "High Cardinality Categorical Columns: 10\n",
      "Number but Categorical Columns: 0\n",
      "\n",
      "\n",
      "Catergorical Columns: ['Depth', 'LC0_Desc', 'USDA', 'ISSS']\n",
      "Numerical Columns: ['POINTID', 'pH_CaCl2', 'pH_H2O', 'EC', 'CaCO3', 'P', 'N', 'K', 'CaCO3 (20-30 cm)', 'Ox_Al', 'Ox_Fe', 'TH_LAT', 'TH_LONG', 'Elev', 'Coarse', 'Clay', 'Sand', 'Silt']\n",
      "High Cardinality Categorical Columns: ['OC', 'OC (20-30 cm)', 'NUTS_1', 'NUTS_2', 'NUTS_3', 'LC', 'LU', 'LC1_Desc', 'LU1_Desc', 'NUTS_0']\n"
     ]
    }
   ],
   "source": [
    "def grab_col_names(data, cat_th=10, car_th=20):\n",
    "    # Categorical columns and categorical but high-cardinality columns\n",
    "    cat_cols = [col for col in data.columns if data[col].dtypes == \"O\"]\n",
    "    num_but_cat = [\n",
    "        col\n",
    "        for col in data.columns\n",
    "        if data[col].nunique() < cat_th and data[col].dtypes != \"O\"\n",
    "    ]\n",
    "    high_card_cat_cols = [\n",
    "        col\n",
    "        for col in data.columns\n",
    "        if data[col].nunique() > car_th and data[col].dtypes == \"O\"\n",
    "    ]\n",
    "\n",
    "    # Combine Object type columns and Low-unique-value numeric columns into cat_cols\n",
    "    cat_cols = cat_cols + num_but_cat\n",
    "    cat_cols = [col for col in cat_cols if col not in high_card_cat_cols]\n",
    "\n",
    "    # Numerical columns excluding those considered as categorical\n",
    "    num_cols = [col for col in data.columns if data[col].dtypes != \"O\"]\n",
    "    num_cols = [col for col in num_cols if col not in num_but_cat]\n",
    "\n",
    "    # Display information about the dataset\n",
    "    print(f\"Observations: {data.shape[0]}\")\n",
    "    print(f\"Variables: {data.shape[1]}\")\n",
    "    print(f\"Categorical Columns: {len(cat_cols)}\")\n",
    "    print(f\"Numerical Columns: {len(num_cols)}\")\n",
    "    print(f\"High Cardinality Categorical Columns: {len(high_card_cat_cols)}\")\n",
    "    print(f\"Number but Categorical Columns: {len(num_but_cat)}\")\n",
    "    print(\"\\n\")\n",
    "\n",
    "    return cat_cols, num_cols, high_card_cat_cols\n",
    "\n",
    "\n",
    "cat_cols, num_cols, high_card_cat_cols = grab_col_names(df)\n",
    "print(f\"Catergorical Columns: {cat_cols}\")\n",
    "print(f\"Numerical Columns: {num_cols}\")\n",
    "print(f\"High Cardinality Categorical Columns: {high_card_cat_cols}\")"
   ]
  },
  {
   "cell_type": "code",
   "execution_count": 31,
   "metadata": {},
   "outputs": [
    {
     "name": "stdout",
     "output_type": "stream",
     "text": [
      "Total number of missing values: 97627\n"
     ]
    }
   ],
   "source": [
    "print(f\"Total number of missing values: {df.isnull().sum().sum()}\")"
   ]
  },
  {
   "cell_type": "code",
   "execution_count": 32,
   "metadata": {},
   "outputs": [
    {
     "name": "stdout",
     "output_type": "stream",
     "text": [
      "Number of Duplicate Rows: 0\n"
     ]
    }
   ],
   "source": [
    "print(f\"Number of Duplicate Rows: {df.duplicated().sum()}\")"
   ]
  },
  {
   "cell_type": "code",
   "execution_count": 33,
   "metadata": {},
   "outputs": [
    {
     "name": "stdout",
     "output_type": "stream",
     "text": [
      "Categorical Columns: ['Depth', 'OC', 'OC (20-30 cm)', 'NUTS_1', 'NUTS_2', 'NUTS_3', 'LC', 'LU', 'LC0_Desc', 'LC1_Desc', 'LU1_Desc', 'USDA', 'ISSS', 'NUTS_0']\n",
      "Numerical Columns: ['pH_CaCl2', 'pH_H2O', 'EC', 'CaCO3', 'P', 'N', 'K', 'CaCO3 (20-30 cm)', 'Ox_Al', 'Ox_Fe', 'TH_LAT', 'TH_LONG', 'Coarse', 'Clay', 'Sand', 'Silt']\n"
     ]
    }
   ],
   "source": [
    "categorical_cols = df.select_dtypes(include=[\"object\"]).columns\n",
    "numerical_cols = df.select_dtypes(include=[\"float64\"]).columns\n",
    "\n",
    "print(\"Categorical Columns:\", list(categorical_cols))\n",
    "print(\"Numerical Columns:\", list(numerical_cols))"
   ]
  },
  {
   "cell_type": "code",
   "execution_count": 34,
   "metadata": {},
   "outputs": [
    {
     "name": "stdout",
     "output_type": "stream",
     "text": [
      "Depth                   0\n",
      "POINTID                 0\n",
      "pH_CaCl2                1\n",
      "pH_H2O                  1\n",
      "EC                      9\n",
      "OC                     35\n",
      "CaCO3                7772\n",
      "P                    5003\n",
      "N                      15\n",
      "K                      40\n",
      "OC (20-30 cm)       18844\n",
      "CaCO3 (20-30 cm)    18970\n",
      "Ox_Al               16474\n",
      "Ox_Fe               16474\n",
      "NUTS_1                  0\n",
      "NUTS_2                  0\n",
      "NUTS_3                  0\n",
      "TH_LAT                  0\n",
      "TH_LONG                 0\n",
      "Elev                    0\n",
      "LC                      0\n",
      "LU                      0\n",
      "LC0_Desc                0\n",
      "LC1_Desc                0\n",
      "LU1_Desc                0\n",
      "Coarse               2709\n",
      "Clay                 2256\n",
      "Sand                 2256\n",
      "Silt                 2256\n",
      "USDA                 2256\n",
      "ISSS                 2256\n",
      "NUTS_0                  0\n",
      "dtype: int64\n"
     ]
    }
   ],
   "source": [
    "print(df.isnull().sum())  # Count missing values per column"
   ]
  },
  {
   "cell_type": "code",
   "execution_count": 35,
   "metadata": {},
   "outputs": [
    {
     "data": {
      "image/png": "[encoded data removed]",
      "text/plain": [
       "<Figure size 1200x600 with 1 Axes>"
      ]
     },
     "metadata": {},
     "output_type": "display_data"
    }
   ],
   "source": [
    "# Visualize missing values\n",
    "plt.figure(figsize=(12, 6))\n",
    "sns.heatmap(df.isnull(), cbar=False, cmap=\"viridis\")\n",
    "plt.title(\"Missing Values Heatmap\")\n",
    "plt.show()"
   ]
  },
  {
   "cell_type": "code",
   "execution_count": 36,
   "metadata": {},
   "outputs": [
    {
     "name": "stdout",
     "output_type": "stream",
     "text": [
      "Missing Values Percentage:\n",
      "CaCO3 (20-30 cm)    99.926254\n",
      "OC (20-30 cm)       99.262537\n",
      "Ox_Fe               86.778340\n",
      "Ox_Al               86.778340\n",
      "CaCO3               40.939739\n",
      "P                   26.353772\n",
      "Coarse              14.269912\n",
      "USDA                11.883692\n",
      "Silt                11.883692\n",
      "Sand                11.883692\n",
      "Clay                11.883692\n",
      "ISSS                11.883692\n",
      "K                    0.210704\n",
      "OC                   0.184366\n",
      "N                    0.079014\n",
      "EC                   0.047408\n",
      "pH_H2O               0.005268\n",
      "pH_CaCl2             0.005268\n",
      "dtype: float64\n"
     ]
    }
   ],
   "source": [
    "# Missing values percentage\n",
    "missing_percentage = df.isnull().mean() * 100\n",
    "missing_percentage = missing_percentage[missing_percentage > 0]\n",
    "missing_percentage = missing_percentage.sort_values(ascending=False)\n",
    "print(\"Missing Values Percentage:\")\n",
    "print(missing_percentage)"
   ]
  },
  {
   "cell_type": "code",
   "execution_count": 37,
   "metadata": {},
   "outputs": [
    {
     "name": "stdout",
     "output_type": "stream",
     "text": [
      "Index(['OC (20-30 cm)', 'CaCO3 (20-30 cm)', 'Ox_Al', 'Ox_Fe'], dtype='object')\n"
     ]
    }
   ],
   "source": [
    "def drop_missing_columns(df, threshold=0.8):\n",
    "    \"\"\"\n",
    "    Drops columns from a pandas DataFrame if they have more than a specified percentage of missing values.\n",
    "\n",
    "    Args:\n",
    "      df: The pandas DataFrame.\n",
    "      threshold: The threshold percentage of missing values (e.g., 0.8 for 80%).\n",
    "\n",
    "    Returns:\n",
    "      A new pandas DataFrame with the columns dropped.\n",
    "    \"\"\"\n",
    "    missing_percentages = df.isnull().sum() / len(df)\n",
    "    columns_to_drop = missing_percentages[missing_percentages > threshold].index\n",
    "    print(columns_to_drop)\n",
    "    return df.drop(columns=columns_to_drop)\n",
    "\n",
    "\n",
    "df = drop_missing_columns(df, 0.8)"
   ]
  },
  {
   "cell_type": "code",
   "execution_count": 38,
   "metadata": {},
   "outputs": [
    {
     "name": "stdout",
     "output_type": "stream",
     "text": [
      "Remaining columns: ['Depth', 'POINTID', 'pH_CaCl2', 'pH_H2O', 'EC', 'OC', 'CaCO3', 'P', 'N', 'K', 'NUTS_1', 'NUTS_2', 'NUTS_3', 'TH_LAT', 'TH_LONG', 'Elev', 'LC', 'LU', 'LC0_Desc', 'LC1_Desc', 'LU1_Desc', 'Coarse', 'Clay', 'Sand', 'Silt', 'USDA', 'ISSS', 'NUTS_0']\n",
      "Depth       0\n",
      "POINTID     0\n",
      "pH_CaCl2    0\n",
      "pH_H2O      0\n",
      "EC          0\n",
      "OC          0\n",
      "CaCO3       0\n",
      "P           0\n",
      "N           0\n",
      "K           0\n",
      "NUTS_1      0\n",
      "NUTS_2      0\n",
      "NUTS_3      0\n",
      "TH_LAT      0\n",
      "TH_LONG     0\n",
      "Elev        0\n",
      "LC          0\n",
      "LU          0\n",
      "LC0_Desc    0\n",
      "LC1_Desc    0\n",
      "LU1_Desc    0\n",
      "Coarse      0\n",
      "Clay        0\n",
      "Sand        0\n",
      "Silt        0\n",
      "USDA        0\n",
      "ISSS        0\n",
      "NUTS_0      0\n",
      "dtype: int64\n"
     ]
    },
    {
     "name": "stderr",
     "output_type": "stream",
     "text": [
      "/var/folders/d5/tjnvwpgj1yddg5dlp5dr9wqr0000gn/T/ipykernel_839/2950181453.py:8: FutureWarning: A value is trying to be set on a copy of a DataFrame or Series through chained assignment using an inplace method.\n",
      "The behavior will change in pandas 3.0. This inplace method will never work because the intermediate object on which we are setting values always behaves as a copy.\n",
      "\n",
      "For example, when doing 'df[col].method(value, inplace=True)', try using 'df.method({col: value}, inplace=True)' or df[col] = df[col].method(value) instead, to perform the operation inplace on the original object.\n",
      "\n",
      "\n",
      "  data[col].fillna(data[col].mean(), inplace=True)\n",
      "/var/folders/d5/tjnvwpgj1yddg5dlp5dr9wqr0000gn/T/ipykernel_839/2950181453.py:12: FutureWarning: A value is trying to be set on a copy of a DataFrame or Series through chained assignment using an inplace method.\n",
      "The behavior will change in pandas 3.0. This inplace method will never work because the intermediate object on which we are setting values always behaves as a copy.\n",
      "\n",
      "For example, when doing 'df[col].method(value, inplace=True)', try using 'df.method({col: value}, inplace=True)' or df[col] = df[col].method(value) instead, to perform the operation inplace on the original object.\n",
      "\n",
      "\n",
      "  data[col].fillna(data[col].mode()[0], inplace=True)\n"
     ]
    }
   ],
   "source": [
    "print(f\"Remaining columns: {df.columns.tolist()}\")\n",
    "\n",
    "\n",
    "# Fillup missing values\n",
    "def fill_missing_values(data):\n",
    "    # Fill missing values for numerical columns with the mean\n",
    "    for col in data.select_dtypes(include=[\"float64\"]).columns:\n",
    "        data[col].fillna(data[col].mean(), inplace=True)\n",
    "\n",
    "    # Fill missing values for categorical columns with the mode\n",
    "    for col in data.select_dtypes(include=[\"object\"]).columns:\n",
    "        data[col].fillna(data[col].mode()[0], inplace=True)\n",
    "\n",
    "    return data\n",
    "\n",
    "\n",
    "df = fill_missing_values(df)\n",
    "print(df.isnull().sum())  # Count missing values per column\n"
   ]
  },
  {
   "cell_type": "code",
   "execution_count": 39,
   "metadata": {},
   "outputs": [
    {
     "data": {
      "image/png": "[encoded data removed]",
      "text/plain": [
       "<Figure size 1000x600 with 2 Axes>"
      ]
     },
     "metadata": {},
     "output_type": "display_data"
    }
   ],
   "source": [
    "import seaborn as sns\n",
    "import matplotlib.pyplot as plt\n",
    "\n",
    "# Compute correlation matrix\n",
    "corr_matrix = df[[\"pH_CaCl2\", \"pH_H2O\", \"EC\", \"Elev\"]].corr()\n",
    "\n",
    "# Plot heatmap\n",
    "plt.figure(figsize=(10, 6))\n",
    "sns.heatmap(corr_matrix, annot=True, cmap=\"coolwarm\", fmt=\".2f\", linewidths=0.5)\n",
    "plt.title(\"Correlation Matrix of Numerical Features\")\n",
    "plt.show()\n"
   ]
  },
  {
   "cell_type": "code",
   "execution_count": 40,
   "metadata": {},
   "outputs": [
    {
     "name": "stdout",
     "output_type": "stream",
     "text": [
      "Encoding Depth...\n",
      "Encoding OC...\n",
      "Encoding NUTS_1...\n",
      "Encoding NUTS_2...\n",
      "Encoding NUTS_3...\n",
      "Encoding LC...\n",
      "Encoding LU...\n",
      "Encoding LC0_Desc...\n",
      "Encoding LC1_Desc...\n",
      "Encoding LU1_Desc...\n",
      "Encoding USDA...\n",
      "Encoding ISSS...\n",
      "Encoding NUTS_0...\n",
      "   Depth   POINTID  pH_CaCl2  pH_H2O     EC    OC  CaCO3          P    N  \\\n",
      "0      1  47862690       4.1    4.81   8.73   186    3.0  34.721172  1.1   \n",
      "1      1  47882704       4.1    4.93   5.06   455    1.0  34.721172  1.3   \n",
      "2      1  47982688       4.1    4.85  12.53  1533    1.0  12.300000  3.1   \n",
      "3      1  48022702       5.5    5.80  21.10   932    3.0  34.721172  2.0   \n",
      "4      1  48062708       6.1    6.48  10.89   605    2.0  34.721172  2.2   \n",
      "\n",
      "       K  ...  LC0_Desc  LC1_Desc  LU1_Desc     Coarse       Clay       Sand  \\\n",
      "0  101.9  ...         7        32        12   2.000000  23.000000  23.000000   \n",
      "1   51.2  ...         7        55        12   6.000000  15.000000  47.000000   \n",
      "2  114.8  ...         7        36        12   4.000000  23.000000  11.000000   \n",
      "3  165.8  ...         7        42        12  15.694869  19.974773  40.965208   \n",
      "4   42.1  ...         7        42        12  15.694869  19.974773  40.965208   \n",
      "\n",
      "        Silt  USDA  ISSS  NUTS_0  \n",
      "0  54.000000     9     9       0  \n",
      "1  38.000000     2     9       0  \n",
      "2  66.000000     9     9       0  \n",
      "3  39.055655     7     9       0  \n",
      "4  39.055655     7     9       0  \n",
      "\n",
      "[5 rows x 28 columns]\n"
     ]
    }
   ],
   "source": [
    "# Label encoding for categorical columns\n",
    "from sklearn.preprocessing import LabelEncoder\n",
    "\n",
    "\n",
    "def label_encode(data):\n",
    "    le = LabelEncoder()\n",
    "    for col in data.select_dtypes(include=[\"object\"]).columns:\n",
    "        print(f\"Encoding {col}...\")\n",
    "        data[col] = le.fit_transform(data[col])\n",
    "    return data\n",
    "\n",
    "\n",
    "df = label_encode(df)\n",
    "print(df.head())"
   ]
  },
  {
   "cell_type": "code",
   "execution_count": 42,
   "metadata": {},
   "outputs": [
    {
     "name": "stdout",
     "output_type": "stream",
     "text": [
      "Features shape: (18984, 26)\n",
      "Target shape: (18984,)\n",
      "X_train shape: (15187, 26)\n",
      "X_test shape: (3797, 26)\n",
      "y_train shape: (15187,)\n",
      "y_test shape: (3797,)\n"
     ]
    }
   ],
   "source": [
    "from sklearn.model_selection import train_test_split\n",
    "\n",
    "# Split the dataset into features and target variable\n",
    "X = df.drop(columns=[\"pH_H2O\", \"pH_CaCl2\"])\n",
    "y = df[\"pH_H2O\"]\n",
    "print(\"Features shape:\", X.shape)\n",
    "print(\"Target shape:\", y.shape)\n",
    "# Train-test split\n",
    "\n",
    "X_train, X_test, y_train, y_test = train_test_split(\n",
    "    X, y, test_size=0.2, random_state=42\n",
    ")\n",
    "print(\"X_train shape:\", X_train.shape)\n",
    "print(\"X_test shape:\", X_test.shape)\n",
    "print(\"y_train shape:\", y_train.shape)\n",
    "print(\"y_test shape:\", y_test.shape)"
   ]
  },
  {
   "cell_type": "code",
   "execution_count": null,
   "metadata": {},
   "outputs": [],
   "source": [
    "# Model training\n",
    "from sklearn.linear_model import LinearRegression\n",
    "from sklearn.ensemble import RandomForestRegressor\n",
    "from sklearn.svm import SVR\n",
    "from sklearn.tree import DecisionTreeRegressor\n",
    "from sklearn.neighbors import KNeighborsRegressor\n",
    "from sklearn.pipeline import Pipeline\n",
    "from sklearn.compose import ColumnTransformer\n",
    "from sklearn.metrics import mean_squared_error, r2_score\n",
    "from sklearn.preprocessing import StandardScaler\n",
    "\n",
    "# Define the models\n",
    "models = {\n",
    "    \"Linear Regression\": LinearRegression(),\n",
    "    \"Random Forest\": RandomForestRegressor(),\n",
    "    \"Support Vector Regression\": SVR(),\n",
    "    \"Decision Tree\": DecisionTreeRegressor(),\n",
    "    \"K-Nearest Neighbors\": KNeighborsRegressor(),\n",
    "}\n",
    "# Initialize a dictionary to store the results\n",
    "results = {}\n",
    "# Iterate through the models\n",
    "for model_name, model in models.items():\n",
    "    # Create a pipeline with preprocessing and the model\n",
    "    pipeline = Pipeline(\n",
    "        [\n",
    "            (\n",
    "                \"preprocessor\",\n",
    "                ColumnTransformer(\n",
    "                    transformers=[\n",
    "                        (\n",
    "                            \"num\",\n",
    "                            StandardScaler(),\n",
    "                            X.select_dtypes(include=[\"float64\"]).columns,\n",
    "                        ),\n",
    "                        (\n",
    "                            \"cat\",\n",
    "                            \"passthrough\",\n",
    "                            X.select_dtypes(include=[\"int64\"]).columns,\n",
    "                        ),\n",
    "                    ]\n",
    "                ),\n",
    "            ),\n",
    "            (\"model\", model),\n",
    "        ]\n",
    "    )\n",
    "\n",
    "    # Fit the pipeline on the training data\n",
    "    pipeline.fit(X_train, y_train)\n",
    "\n",
    "    # Make predictions on the test data\n",
    "    y_pred = pipeline.predict(X_test)\n",
    "\n",
    "    # Calculate metrics\n",
    "    mse = mean_squared_error(y_test, y_pred)\n",
    "    r2 = r2_score(y_test, y_pred)\n",
    "\n",
    "    # Store the results\n",
    "    results[model_name] = {\"MSE\": mse, \"R2\": r2}"
   ]
  },
  {
   "cell_type": "code",
   "execution_count": 44,
   "metadata": {},
   "outputs": [
    {
     "name": "stdout",
     "output_type": "stream",
     "text": [
      "Model Performance:\n",
      "Linear Regression: MSE = 0.6788, R2 = 0.6184\n",
      "Random Forest: MSE = 0.2341, R2 = 0.8684\n",
      "Support Vector Regression: MSE = 1.5830, R2 = 0.1102\n",
      "Decision Tree: MSE = 0.4584, R2 = 0.7424\n",
      "K-Nearest Neighbors: MSE = 1.2886, R2 = 0.2757\n"
     ]
    },
    {
     "data": {
      "image/png": "[encoded data removed]",
      "text/plain": [
       "<Figure size 1000x500 with 1 Axes>"
      ]
     },
     "metadata": {},
     "output_type": "display_data"
    }
   ],
   "source": [
    "print(\"Model Performance:\")\n",
    "for model_name, metrics in results.items():\n",
    "    print(f\"{model_name}: MSE = {metrics['MSE']:.4f}, R2 = {metrics['R2']:.4f}\")\n",
    "# Visualize the results\n",
    "plt.figure(figsize=(10, 5))\n",
    "sns.barplot(\n",
    "    x=list(results.keys()),\n",
    "    y=[metrics[\"R2\"] for metrics in results.values()],\n",
    ")\n",
    "plt.title(\"Model Performance (R2 Score)\")\n",
    "plt.ylabel(\"R2 Score\")\n",
    "plt.xlabel(\"Models\")\n",
    "plt.xticks(rotation=45)\n",
    "plt.tight_layout()\n",
    "plt.show()"
   ]
  }
 ],
 "metadata": {
  "kernelspec": {
   "display_name": "Python 3",
   "language": "python",
   "name": "python3"
  },
  "language_info": {
   "codemirror_mode": {
    "name": "ipython",
    "version": 3
   },
   "file_extension": ".py",
   "mimetype": "text/x-python",
   "name": "python",
   "nbconvert_exporter": "python",
   "pygments_lexer": "ipython3",
   "version": "3.12.9"
  }
 },
 "nbformat": 4,
 "nbformat_minor": 2
}
