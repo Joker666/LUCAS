{
 "cells": [
  {
   "cell_type": "code",
   "execution_count": 3,
   "metadata": {},
   "outputs": [],
   "source": [
    "import numpy as np\n",
    "import pandas as pd\n",
    "import seaborn as sns\n",
    "import matplotlib.pyplot as plt"
   ]
  },
  {
   "cell_type": "code",
   "execution_count": 4,
   "metadata": {},
   "outputs": [
    {
     "data": {
      "application/vnd.microsoft.datawrangler.viewer.v0+json": {
       "columns": [
        {
         "name": "index",
         "rawType": "int64",
         "type": "integer"
        },
        {
         "name": "Depth",
         "rawType": "object",
         "type": "string"
        },
        {
         "name": "POINTID",
         "rawType": "int64",
         "type": "integer"
        },
        {
         "name": "pH_CaCl2",
         "rawType": "float64",
         "type": "float"
        },
        {
         "name": "pH_H2O",
         "rawType": "float64",
         "type": "float"
        },
        {
         "name": "EC",
         "rawType": "float64",
         "type": "float"
        },
        {
         "name": "OC",
         "rawType": "object",
         "type": "string"
        },
        {
         "name": "CaCO3",
         "rawType": "object",
         "type": "string"
        },
        {
         "name": "P",
         "rawType": "object",
         "type": "string"
        },
        {
         "name": "N",
         "rawType": "object",
         "type": "string"
        },
        {
         "name": "K",
         "rawType": "object",
         "type": "string"
        },
        {
         "name": "OC (20-30 cm)",
         "rawType": "object",
         "type": "unknown"
        },
        {
         "name": "CaCO3 (20-30 cm)",
         "rawType": "float64",
         "type": "float"
        },
        {
         "name": "Ox_Al",
         "rawType": "float64",
         "type": "float"
        },
        {
         "name": "Ox_Fe",
         "rawType": "float64",
         "type": "float"
        },
        {
         "name": "NUTS_0",
         "rawType": "object",
         "type": "string"
        },
        {
         "name": "NUTS_1",
         "rawType": "object",
         "type": "string"
        },
        {
         "name": "NUTS_2",
         "rawType": "object",
         "type": "string"
        },
        {
         "name": "NUTS_3",
         "rawType": "object",
         "type": "string"
        },
        {
         "name": "TH_LAT",
         "rawType": "float64",
         "type": "float"
        },
        {
         "name": "TH_LONG",
         "rawType": "float64",
         "type": "float"
        },
        {
         "name": "SURVEY_DATE",
         "rawType": "object",
         "type": "string"
        },
        {
         "name": "Elev",
         "rawType": "int64",
         "type": "integer"
        },
        {
         "name": "LC",
         "rawType": "object",
         "type": "string"
        },
        {
         "name": "LU",
         "rawType": "object",
         "type": "string"
        },
        {
         "name": "LC0_Desc",
         "rawType": "object",
         "type": "string"
        },
        {
         "name": "LC1_Desc",
         "rawType": "object",
         "type": "string"
        },
        {
         "name": "LU1_Desc",
         "rawType": "object",
         "type": "string"
        }
       ],
       "conversionMethod": "pd.DataFrame",
       "ref": "78849f7d-3702-4fb3-bb4a-abe57678893f",
       "rows": [
        [
         "0",
         "0-20 cm",
         "47862690",
         "4.1",
         "4.81",
         "8.73",
         "12.4",
         "3",
         "< LOD",
         "1.1",
         "101.9",
         null,
         null,
         null,
         null,
         "AT",
         "AT1",
         "AT11",
         "AT113",
         "47.15023795",
         "16.13421178",
         "06-07-18",
         "291",
         "C23",
         "U120",
         "Woodland",
         "Other coniferous woodland",
         "Forestry"
        ],
        [
         "1",
         "0-20 cm",
         "47882704",
         "4.1",
         "4.93",
         "5.06",
         "16.7",
         "1",
         "< LOD",
         "1.3",
         "51.2",
         null,
         null,
         null,
         null,
         "AT",
         "AT1",
         "AT11",
         "AT113",
         "47.27427248",
         "16.17535859",
         "06-07-18",
         "373",
         "C21",
         "U120",
         "Woodland",
         "Spruce dominated coniferous woodland",
         "Forestry"
        ],
        [
         "2",
         "0-20 cm",
         "47982688",
         "4.1",
         "4.85",
         "12.53",
         "47.5",
         "1",
         "12.3",
         "3.1",
         "114.8",
         null,
         null,
         null,
         null,
         "AT",
         "AT1",
         "AT11",
         "AT113",
         "47.1232602",
         "16.28969291",
         "02-06-18",
         "246",
         "C33",
         "U120",
         "Woodland",
         "Other mixed woodland",
         "Forestry"
        ],
        [
         "3",
         "0-20 cm",
         "48022702",
         "5.5",
         "5.8",
         "21.1",
         "28.1",
         "3",
         "< LOD",
         "2",
         "165.8",
         null,
         null,
         null,
         null,
         "AT",
         "AT1",
         "AT11",
         "AT113",
         "47.24569335",
         "16.35750603",
         "06-07-18",
         "305",
         "C22",
         "U120",
         "Woodland",
         "Pine dominated coniferous woodland",
         "Forestry"
        ],
        [
         "4",
         "0-20 cm",
         "48062708",
         "6.1",
         "6.48",
         "10.89",
         "19.4",
         "2",
         "< LOD",
         "2.2",
         "42.1",
         null,
         null,
         null,
         null,
         "AT",
         "AT1",
         "AT11",
         "AT113",
         "47.29637182",
         "16.41678159",
         "05-07-18",
         "335",
         "C22",
         "U120",
         "Woodland",
         "Pine dominated coniferous woodland",
         "Forestry"
        ]
       ],
       "shape": {
        "columns": 27,
        "rows": 5
       }
      },
      "text/html": [
       "<div>\n",
       "<style scoped>\n",
       "    .dataframe tbody tr th:only-of-type {\n",
       "        vertical-align: middle;\n",
       "    }\n",
       "\n",
       "    .dataframe tbody tr th {\n",
       "        vertical-align: top;\n",
       "    }\n",
       "\n",
       "    .dataframe thead th {\n",
       "        text-align: right;\n",
       "    }\n",
       "</style>\n",
       "<table border=\"1\" class=\"dataframe\">\n",
       "  <thead>\n",
       "    <tr style=\"text-align: right;\">\n",
       "      <th></th>\n",
       "      <th>Depth</th>\n",
       "      <th>POINTID</th>\n",
       "      <th>pH_CaCl2</th>\n",
       "      <th>pH_H2O</th>\n",
       "      <th>EC</th>\n",
       "      <th>OC</th>\n",
       "      <th>CaCO3</th>\n",
       "      <th>P</th>\n",
       "      <th>N</th>\n",
       "      <th>K</th>\n",
       "      <th>...</th>\n",
       "      <th>NUTS_3</th>\n",
       "      <th>TH_LAT</th>\n",
       "      <th>TH_LONG</th>\n",
       "      <th>SURVEY_DATE</th>\n",
       "      <th>Elev</th>\n",
       "      <th>LC</th>\n",
       "      <th>LU</th>\n",
       "      <th>LC0_Desc</th>\n",
       "      <th>LC1_Desc</th>\n",
       "      <th>LU1_Desc</th>\n",
       "    </tr>\n",
       "  </thead>\n",
       "  <tbody>\n",
       "    <tr>\n",
       "      <th>0</th>\n",
       "      <td>0-20 cm</td>\n",
       "      <td>47862690</td>\n",
       "      <td>4.1</td>\n",
       "      <td>4.81</td>\n",
       "      <td>8.73</td>\n",
       "      <td>12.4</td>\n",
       "      <td>3</td>\n",
       "      <td>&lt; LOD</td>\n",
       "      <td>1.1</td>\n",
       "      <td>101.9</td>\n",
       "      <td>...</td>\n",
       "      <td>AT113</td>\n",
       "      <td>47.150238</td>\n",
       "      <td>16.134212</td>\n",
       "      <td>06-07-18</td>\n",
       "      <td>291</td>\n",
       "      <td>C23</td>\n",
       "      <td>U120</td>\n",
       "      <td>Woodland</td>\n",
       "      <td>Other coniferous woodland</td>\n",
       "      <td>Forestry</td>\n",
       "    </tr>\n",
       "    <tr>\n",
       "      <th>1</th>\n",
       "      <td>0-20 cm</td>\n",
       "      <td>47882704</td>\n",
       "      <td>4.1</td>\n",
       "      <td>4.93</td>\n",
       "      <td>5.06</td>\n",
       "      <td>16.7</td>\n",
       "      <td>1</td>\n",
       "      <td>&lt; LOD</td>\n",
       "      <td>1.3</td>\n",
       "      <td>51.2</td>\n",
       "      <td>...</td>\n",
       "      <td>AT113</td>\n",
       "      <td>47.274272</td>\n",
       "      <td>16.175359</td>\n",
       "      <td>06-07-18</td>\n",
       "      <td>373</td>\n",
       "      <td>C21</td>\n",
       "      <td>U120</td>\n",
       "      <td>Woodland</td>\n",
       "      <td>Spruce dominated coniferous woodland</td>\n",
       "      <td>Forestry</td>\n",
       "    </tr>\n",
       "    <tr>\n",
       "      <th>2</th>\n",
       "      <td>0-20 cm</td>\n",
       "      <td>47982688</td>\n",
       "      <td>4.1</td>\n",
       "      <td>4.85</td>\n",
       "      <td>12.53</td>\n",
       "      <td>47.5</td>\n",
       "      <td>1</td>\n",
       "      <td>12.3</td>\n",
       "      <td>3.1</td>\n",
       "      <td>114.8</td>\n",
       "      <td>...</td>\n",
       "      <td>AT113</td>\n",
       "      <td>47.123260</td>\n",
       "      <td>16.289693</td>\n",
       "      <td>02-06-18</td>\n",
       "      <td>246</td>\n",
       "      <td>C33</td>\n",
       "      <td>U120</td>\n",
       "      <td>Woodland</td>\n",
       "      <td>Other mixed woodland</td>\n",
       "      <td>Forestry</td>\n",
       "    </tr>\n",
       "    <tr>\n",
       "      <th>3</th>\n",
       "      <td>0-20 cm</td>\n",
       "      <td>48022702</td>\n",
       "      <td>5.5</td>\n",
       "      <td>5.80</td>\n",
       "      <td>21.10</td>\n",
       "      <td>28.1</td>\n",
       "      <td>3</td>\n",
       "      <td>&lt; LOD</td>\n",
       "      <td>2</td>\n",
       "      <td>165.8</td>\n",
       "      <td>...</td>\n",
       "      <td>AT113</td>\n",
       "      <td>47.245693</td>\n",
       "      <td>16.357506</td>\n",
       "      <td>06-07-18</td>\n",
       "      <td>305</td>\n",
       "      <td>C22</td>\n",
       "      <td>U120</td>\n",
       "      <td>Woodland</td>\n",
       "      <td>Pine dominated coniferous woodland</td>\n",
       "      <td>Forestry</td>\n",
       "    </tr>\n",
       "    <tr>\n",
       "      <th>4</th>\n",
       "      <td>0-20 cm</td>\n",
       "      <td>48062708</td>\n",
       "      <td>6.1</td>\n",
       "      <td>6.48</td>\n",
       "      <td>10.89</td>\n",
       "      <td>19.4</td>\n",
       "      <td>2</td>\n",
       "      <td>&lt; LOD</td>\n",
       "      <td>2.2</td>\n",
       "      <td>42.1</td>\n",
       "      <td>...</td>\n",
       "      <td>AT113</td>\n",
       "      <td>47.296372</td>\n",
       "      <td>16.416782</td>\n",
       "      <td>05-07-18</td>\n",
       "      <td>335</td>\n",
       "      <td>C22</td>\n",
       "      <td>U120</td>\n",
       "      <td>Woodland</td>\n",
       "      <td>Pine dominated coniferous woodland</td>\n",
       "      <td>Forestry</td>\n",
       "    </tr>\n",
       "  </tbody>\n",
       "</table>\n",
       "<p>5 rows × 27 columns</p>\n",
       "</div>"
      ],
      "text/plain": [
       "     Depth   POINTID  pH_CaCl2  pH_H2O     EC    OC CaCO3      P    N      K  \\\n",
       "0  0-20 cm  47862690       4.1    4.81   8.73  12.4     3  < LOD  1.1  101.9   \n",
       "1  0-20 cm  47882704       4.1    4.93   5.06  16.7     1  < LOD  1.3   51.2   \n",
       "2  0-20 cm  47982688       4.1    4.85  12.53  47.5     1   12.3  3.1  114.8   \n",
       "3  0-20 cm  48022702       5.5    5.80  21.10  28.1     3  < LOD    2  165.8   \n",
       "4  0-20 cm  48062708       6.1    6.48  10.89  19.4     2  < LOD  2.2   42.1   \n",
       "\n",
       "   ... NUTS_3     TH_LAT    TH_LONG  SURVEY_DATE Elev   LC    LU  LC0_Desc  \\\n",
       "0  ...  AT113  47.150238  16.134212     06-07-18  291  C23  U120  Woodland   \n",
       "1  ...  AT113  47.274272  16.175359     06-07-18  373  C21  U120  Woodland   \n",
       "2  ...  AT113  47.123260  16.289693     02-06-18  246  C33  U120  Woodland   \n",
       "3  ...  AT113  47.245693  16.357506     06-07-18  305  C22  U120  Woodland   \n",
       "4  ...  AT113  47.296372  16.416782     05-07-18  335  C22  U120  Woodland   \n",
       "\n",
       "                               LC1_Desc  LU1_Desc  \n",
       "0             Other coniferous woodland  Forestry  \n",
       "1  Spruce dominated coniferous woodland  Forestry  \n",
       "2                  Other mixed woodland  Forestry  \n",
       "3    Pine dominated coniferous woodland  Forestry  \n",
       "4    Pine dominated coniferous woodland  Forestry  \n",
       "\n",
       "[5 rows x 27 columns]"
      ]
     },
     "execution_count": 4,
     "metadata": {},
     "output_type": "execute_result"
    }
   ],
   "source": [
    "df = pd.read_csv(\"./LUCAS-SOIL-2018.csv\")\n",
    "df.head()"
   ]
  },
  {
   "cell_type": "code",
   "execution_count": 5,
   "metadata": {},
   "outputs": [
    {
     "data": {
      "text/plain": [
       "Index(['Depth', 'POINTID', 'pH_CaCl2', 'pH_H2O', 'EC', 'OC', 'CaCO3', 'P', 'N',\n",
       "       'K', 'OC (20-30 cm)', 'CaCO3 (20-30 cm)', 'Ox_Al', 'Ox_Fe', 'NUTS_0',\n",
       "       'NUTS_1', 'NUTS_2', 'NUTS_3', 'TH_LAT', 'TH_LONG', 'SURVEY_DATE',\n",
       "       'Elev', 'LC', 'LU', 'LC0_Desc', 'LC1_Desc', 'LU1_Desc'],\n",
       "      dtype='object')"
      ]
     },
     "execution_count": 5,
     "metadata": {},
     "output_type": "execute_result"
    }
   ],
   "source": [
    "df.columns"
   ]
  },
  {
   "cell_type": "code",
   "execution_count": 6,
   "metadata": {},
   "outputs": [
    {
     "name": "stdout",
     "output_type": "stream",
     "text": [
      "<class 'pandas.core.frame.DataFrame'>\n",
      "RangeIndex: 18984 entries, 0 to 18983\n",
      "Data columns (total 27 columns):\n",
      " #   Column            Non-Null Count  Dtype  \n",
      "---  ------            --------------  -----  \n",
      " 0   Depth             18984 non-null  object \n",
      " 1   POINTID           18984 non-null  int64  \n",
      " 2   pH_CaCl2          18983 non-null  float64\n",
      " 3   pH_H2O            18983 non-null  float64\n",
      " 4   EC                18975 non-null  float64\n",
      " 5   OC                18983 non-null  object \n",
      " 6   CaCO3             11221 non-null  object \n",
      " 7   P                 18958 non-null  object \n",
      " 8   N                 18983 non-null  object \n",
      " 9   K                 18983 non-null  object \n",
      " 10  OC (20-30 cm)     141 non-null    object \n",
      " 11  CaCO3 (20-30 cm)  14 non-null     float64\n",
      " 12  Ox_Al             2510 non-null   float64\n",
      " 13  Ox_Fe             2510 non-null   float64\n",
      " 14  NUTS_0            18984 non-null  object \n",
      " 15  NUTS_1            18984 non-null  object \n",
      " 16  NUTS_2            18984 non-null  object \n",
      " 17  NUTS_3            18984 non-null  object \n",
      " 18  TH_LAT            18984 non-null  float64\n",
      " 19  TH_LONG           18984 non-null  float64\n",
      " 20  SURVEY_DATE       18984 non-null  object \n",
      " 21  Elev              18984 non-null  int64  \n",
      " 22  LC                18984 non-null  object \n",
      " 23  LU                18984 non-null  object \n",
      " 24  LC0_Desc          18984 non-null  object \n",
      " 25  LC1_Desc          18984 non-null  object \n",
      " 26  LU1_Desc          18984 non-null  object \n",
      "dtypes: float64(8), int64(2), object(17)\n",
      "memory usage: 3.9+ MB\n"
     ]
    }
   ],
   "source": [
    "df.info()"
   ]
  },
  {
   "cell_type": "code",
   "execution_count": 7,
   "metadata": {},
   "outputs": [
    {
     "data": {
      "application/vnd.microsoft.datawrangler.viewer.v0+json": {
       "columns": [
        {
         "name": "index",
         "rawType": "object",
         "type": "string"
        },
        {
         "name": "POINTID",
         "rawType": "float64",
         "type": "float"
        },
        {
         "name": "pH_CaCl2",
         "rawType": "float64",
         "type": "float"
        },
        {
         "name": "pH_H2O",
         "rawType": "float64",
         "type": "float"
        },
        {
         "name": "EC",
         "rawType": "float64",
         "type": "float"
        },
        {
         "name": "CaCO3 (20-30 cm)",
         "rawType": "float64",
         "type": "float"
        },
        {
         "name": "Ox_Al",
         "rawType": "float64",
         "type": "float"
        },
        {
         "name": "Ox_Fe",
         "rawType": "float64",
         "type": "float"
        },
        {
         "name": "TH_LAT",
         "rawType": "float64",
         "type": "float"
        },
        {
         "name": "TH_LONG",
         "rawType": "float64",
         "type": "float"
        },
        {
         "name": "Elev",
         "rawType": "float64",
         "type": "float"
        }
       ],
       "conversionMethod": "pd.DataFrame",
       "ref": "669eb5d6-d630-45e4-becf-b2450010477f",
       "rows": [
        [
         "count",
         "18984.0",
         "18983.0",
         "18983.0",
         "18975.0",
         "14.0",
         "2510.0",
         "2510.0",
         "18984.0",
         "18984.0",
         "18984.0"
        ],
        [
         "mean",
         "42770796.926253684",
         "5.706426802928936",
         "6.259459516409419",
         "18.389963899868246",
         "288.85714285714283",
         "1.1714741035856573",
         "2.5471713147410355",
         "48.689184245898645",
         "10.330165917798462",
         "613.188211125158"
        ],
        [
         "std",
         "8350826.616587244",
         "1.3985862168134038",
         "1.3194652235541928",
         "25.560630176875826",
         "236.0211389303467",
         "1.2431105552032953",
         "2.431785573331882",
         "7.77919537804052",
         "11.192491596447942",
         "1461.6816372547958"
        ],
        [
         "min",
         "26521970.0",
         "2.6",
         "3.34",
         "0.24",
         "1.0",
         "0.0",
         "0.1",
         "34.69026961",
         "-10.14909922",
         "-55.0"
        ],
        [
         "25%",
         "34922926.0",
         "4.5",
         "5.12",
         "8.094999999999999",
         "64.5",
         "0.6",
         "1.0",
         "42.229368552500006",
         "-0.74536502475",
         "124.0"
        ],
        [
         "50%",
         "44663907.0",
         "5.8",
         "6.29",
         "13.95",
         "287.5",
         "0.9",
         "1.9",
         "47.338687795",
         "12.078145815",
         "261.0"
        ],
        [
         "75%",
         "49922785.0",
         "7.1",
         "7.5",
         "20.6",
         "417.75",
         "1.3",
         "3.3",
         "53.4242399175",
         "20.647825425",
         "666.25"
        ],
        [
         "max",
         "64981672.0",
         "9.8",
         "10.43",
         "1295.6",
         "702.0",
         "34.7",
         "35.8",
         "69.9565147",
         "34.02966036",
         "11464.0"
        ]
       ],
       "shape": {
        "columns": 10,
        "rows": 8
       }
      },
      "text/html": [
       "<div>\n",
       "<style scoped>\n",
       "    .dataframe tbody tr th:only-of-type {\n",
       "        vertical-align: middle;\n",
       "    }\n",
       "\n",
       "    .dataframe tbody tr th {\n",
       "        vertical-align: top;\n",
       "    }\n",
       "\n",
       "    .dataframe thead th {\n",
       "        text-align: right;\n",
       "    }\n",
       "</style>\n",
       "<table border=\"1\" class=\"dataframe\">\n",
       "  <thead>\n",
       "    <tr style=\"text-align: right;\">\n",
       "      <th></th>\n",
       "      <th>POINTID</th>\n",
       "      <th>pH_CaCl2</th>\n",
       "      <th>pH_H2O</th>\n",
       "      <th>EC</th>\n",
       "      <th>CaCO3 (20-30 cm)</th>\n",
       "      <th>Ox_Al</th>\n",
       "      <th>Ox_Fe</th>\n",
       "      <th>TH_LAT</th>\n",
       "      <th>TH_LONG</th>\n",
       "      <th>Elev</th>\n",
       "    </tr>\n",
       "  </thead>\n",
       "  <tbody>\n",
       "    <tr>\n",
       "      <th>count</th>\n",
       "      <td>1.898400e+04</td>\n",
       "      <td>18983.000000</td>\n",
       "      <td>18983.000000</td>\n",
       "      <td>18975.000000</td>\n",
       "      <td>14.000000</td>\n",
       "      <td>2510.000000</td>\n",
       "      <td>2510.000000</td>\n",
       "      <td>18984.000000</td>\n",
       "      <td>18984.000000</td>\n",
       "      <td>18984.000000</td>\n",
       "    </tr>\n",
       "    <tr>\n",
       "      <th>mean</th>\n",
       "      <td>4.277080e+07</td>\n",
       "      <td>5.706427</td>\n",
       "      <td>6.259460</td>\n",
       "      <td>18.389964</td>\n",
       "      <td>288.857143</td>\n",
       "      <td>1.171474</td>\n",
       "      <td>2.547171</td>\n",
       "      <td>48.689184</td>\n",
       "      <td>10.330166</td>\n",
       "      <td>613.188211</td>\n",
       "    </tr>\n",
       "    <tr>\n",
       "      <th>std</th>\n",
       "      <td>8.350827e+06</td>\n",
       "      <td>1.398586</td>\n",
       "      <td>1.319465</td>\n",
       "      <td>25.560630</td>\n",
       "      <td>236.021139</td>\n",
       "      <td>1.243111</td>\n",
       "      <td>2.431786</td>\n",
       "      <td>7.779195</td>\n",
       "      <td>11.192492</td>\n",
       "      <td>1461.681637</td>\n",
       "    </tr>\n",
       "    <tr>\n",
       "      <th>min</th>\n",
       "      <td>2.652197e+07</td>\n",
       "      <td>2.600000</td>\n",
       "      <td>3.340000</td>\n",
       "      <td>0.240000</td>\n",
       "      <td>1.000000</td>\n",
       "      <td>0.000000</td>\n",
       "      <td>0.100000</td>\n",
       "      <td>34.690270</td>\n",
       "      <td>-10.149099</td>\n",
       "      <td>-55.000000</td>\n",
       "    </tr>\n",
       "    <tr>\n",
       "      <th>25%</th>\n",
       "      <td>3.492293e+07</td>\n",
       "      <td>4.500000</td>\n",
       "      <td>5.120000</td>\n",
       "      <td>8.095000</td>\n",
       "      <td>64.500000</td>\n",
       "      <td>0.600000</td>\n",
       "      <td>1.000000</td>\n",
       "      <td>42.229369</td>\n",
       "      <td>-0.745365</td>\n",
       "      <td>124.000000</td>\n",
       "    </tr>\n",
       "    <tr>\n",
       "      <th>50%</th>\n",
       "      <td>4.466391e+07</td>\n",
       "      <td>5.800000</td>\n",
       "      <td>6.290000</td>\n",
       "      <td>13.950000</td>\n",
       "      <td>287.500000</td>\n",
       "      <td>0.900000</td>\n",
       "      <td>1.900000</td>\n",
       "      <td>47.338688</td>\n",
       "      <td>12.078146</td>\n",
       "      <td>261.000000</td>\n",
       "    </tr>\n",
       "    <tr>\n",
       "      <th>75%</th>\n",
       "      <td>4.992278e+07</td>\n",
       "      <td>7.100000</td>\n",
       "      <td>7.500000</td>\n",
       "      <td>20.600000</td>\n",
       "      <td>417.750000</td>\n",
       "      <td>1.300000</td>\n",
       "      <td>3.300000</td>\n",
       "      <td>53.424240</td>\n",
       "      <td>20.647825</td>\n",
       "      <td>666.250000</td>\n",
       "    </tr>\n",
       "    <tr>\n",
       "      <th>max</th>\n",
       "      <td>6.498167e+07</td>\n",
       "      <td>9.800000</td>\n",
       "      <td>10.430000</td>\n",
       "      <td>1295.600000</td>\n",
       "      <td>702.000000</td>\n",
       "      <td>34.700000</td>\n",
       "      <td>35.800000</td>\n",
       "      <td>69.956515</td>\n",
       "      <td>34.029660</td>\n",
       "      <td>11464.000000</td>\n",
       "    </tr>\n",
       "  </tbody>\n",
       "</table>\n",
       "</div>"
      ],
      "text/plain": [
       "            POINTID      pH_CaCl2        pH_H2O            EC  \\\n",
       "count  1.898400e+04  18983.000000  18983.000000  18975.000000   \n",
       "mean   4.277080e+07      5.706427      6.259460     18.389964   \n",
       "std    8.350827e+06      1.398586      1.319465     25.560630   \n",
       "min    2.652197e+07      2.600000      3.340000      0.240000   \n",
       "25%    3.492293e+07      4.500000      5.120000      8.095000   \n",
       "50%    4.466391e+07      5.800000      6.290000     13.950000   \n",
       "75%    4.992278e+07      7.100000      7.500000     20.600000   \n",
       "max    6.498167e+07      9.800000     10.430000   1295.600000   \n",
       "\n",
       "       CaCO3 (20-30 cm)        Ox_Al        Ox_Fe        TH_LAT       TH_LONG  \\\n",
       "count         14.000000  2510.000000  2510.000000  18984.000000  18984.000000   \n",
       "mean         288.857143     1.171474     2.547171     48.689184     10.330166   \n",
       "std          236.021139     1.243111     2.431786      7.779195     11.192492   \n",
       "min            1.000000     0.000000     0.100000     34.690270    -10.149099   \n",
       "25%           64.500000     0.600000     1.000000     42.229369     -0.745365   \n",
       "50%          287.500000     0.900000     1.900000     47.338688     12.078146   \n",
       "75%          417.750000     1.300000     3.300000     53.424240     20.647825   \n",
       "max          702.000000    34.700000    35.800000     69.956515     34.029660   \n",
       "\n",
       "               Elev  \n",
       "count  18984.000000  \n",
       "mean     613.188211  \n",
       "std     1461.681637  \n",
       "min      -55.000000  \n",
       "25%      124.000000  \n",
       "50%      261.000000  \n",
       "75%      666.250000  \n",
       "max    11464.000000  "
      ]
     },
     "execution_count": 7,
     "metadata": {},
     "output_type": "execute_result"
    }
   ],
   "source": [
    "df.describe()"
   ]
  },
  {
   "cell_type": "code",
   "execution_count": 8,
   "metadata": {},
   "outputs": [
    {
     "name": "stdout",
     "output_type": "stream",
     "text": [
      "Observations: 18984\n",
      "Variables: 27\n",
      "Categorical Columns: 2\n",
      "Numerical Columns: 10\n",
      "High Cardinality Categorical Columns: 15\n",
      "Number but Categorical Columns: 0\n",
      "\n",
      "\n",
      "Catergorical Columns: ['Depth', 'LC0_Desc']\n",
      "Numerical Columns: ['POINTID', 'pH_CaCl2', 'pH_H2O', 'EC', 'CaCO3 (20-30 cm)', 'Ox_Al', 'Ox_Fe', 'TH_LAT', 'TH_LONG', 'Elev']\n",
      "High Cardinality Categorical Columns: ['OC', 'CaCO3', 'P', 'N', 'K', 'OC (20-30 cm)', 'NUTS_0', 'NUTS_1', 'NUTS_2', 'NUTS_3', 'SURVEY_DATE', 'LC', 'LU', 'LC1_Desc', 'LU1_Desc']\n"
     ]
    }
   ],
   "source": [
    "def grab_col_names(data, cat_th=10, car_th=20):\n",
    "    # Categorical columns and categorical but high-cardinality columns\n",
    "    cat_cols = [col for col in data.columns if data[col].dtypes == \"O\"]\n",
    "    num_but_cat = [\n",
    "        col\n",
    "        for col in data.columns\n",
    "        if data[col].nunique() < cat_th and data[col].dtypes != \"O\"\n",
    "    ]\n",
    "    high_card_cat_cols = [\n",
    "        col\n",
    "        for col in data.columns\n",
    "        if data[col].nunique() > car_th and data[col].dtypes == \"O\"\n",
    "    ]\n",
    "\n",
    "    # Combine Object type columns and Low-unique-value numeric columns into cat_cols\n",
    "    cat_cols = cat_cols + num_but_cat\n",
    "    cat_cols = [col for col in cat_cols if col not in high_card_cat_cols]\n",
    "\n",
    "    # Numerical columns excluding those considered as categorical\n",
    "    num_cols = [col for col in data.columns if data[col].dtypes != \"O\"]\n",
    "    num_cols = [col for col in num_cols if col not in num_but_cat]\n",
    "\n",
    "    # Display information about the dataset\n",
    "    print(f\"Observations: {data.shape[0]}\")\n",
    "    print(f\"Variables: {data.shape[1]}\")\n",
    "    print(f\"Categorical Columns: {len(cat_cols)}\")\n",
    "    print(f\"Numerical Columns: {len(num_cols)}\")\n",
    "    print(f\"High Cardinality Categorical Columns: {len(high_card_cat_cols)}\")\n",
    "    print(f\"Number but Categorical Columns: {len(num_but_cat)}\")\n",
    "    print(\"\\n\")\n",
    "\n",
    "    return cat_cols, num_cols, high_card_cat_cols\n",
    "\n",
    "\n",
    "cat_cols, num_cols, high_card_cat_cols = grab_col_names(df)\n",
    "print(f\"Catergorical Columns: {cat_cols}\")\n",
    "print(f\"Numerical Columns: {num_cols}\")\n",
    "print(f\"High Cardinality Categorical Columns: {high_card_cat_cols}\")"
   ]
  },
  {
   "cell_type": "code",
   "execution_count": 9,
   "metadata": {},
   "outputs": [
    {
     "name": "stdout",
     "output_type": "stream",
     "text": [
      "Total number of missing values: 78564\n"
     ]
    }
   ],
   "source": [
    "print(f\"Total number of missing values: {df.isnull().sum().sum()}\")"
   ]
  },
  {
   "cell_type": "code",
   "execution_count": 10,
   "metadata": {},
   "outputs": [
    {
     "name": "stdout",
     "output_type": "stream",
     "text": [
      "Number of Duplicate Rows: 0\n"
     ]
    }
   ],
   "source": [
    "print(f\"Number of Duplicate Rows: {df.duplicated().sum()}\")"
   ]
  },
  {
   "cell_type": "code",
   "execution_count": 11,
   "metadata": {},
   "outputs": [
    {
     "name": "stdout",
     "output_type": "stream",
     "text": [
      "Categorical Columns: ['Depth', 'OC', 'CaCO3', 'P', 'N', 'K', 'OC (20-30 cm)', 'NUTS_0', 'NUTS_1', 'NUTS_2', 'NUTS_3', 'SURVEY_DATE', 'LC', 'LU', 'LC0_Desc', 'LC1_Desc', 'LU1_Desc']\n",
      "Numerical Columns: ['pH_CaCl2', 'pH_H2O', 'EC', 'CaCO3 (20-30 cm)', 'Ox_Al', 'Ox_Fe', 'TH_LAT', 'TH_LONG']\n"
     ]
    }
   ],
   "source": [
    "categorical_cols = df.select_dtypes(include=[\"object\"]).columns\n",
    "numerical_cols = df.select_dtypes(include=[\"float64\"]).columns\n",
    "\n",
    "print(\"Categorical Columns:\", list(categorical_cols))\n",
    "print(\"Numerical Columns:\", list(numerical_cols))"
   ]
  },
  {
   "cell_type": "code",
   "execution_count": 12,
   "metadata": {},
   "outputs": [
    {
     "name": "stdout",
     "output_type": "stream",
     "text": [
      "Depth                   0\n",
      "POINTID                 0\n",
      "pH_CaCl2                1\n",
      "pH_H2O                  1\n",
      "EC                      9\n",
      "OC                      1\n",
      "CaCO3                7763\n",
      "P                      26\n",
      "N                       1\n",
      "K                       1\n",
      "OC (20-30 cm)       18843\n",
      "CaCO3 (20-30 cm)    18970\n",
      "Ox_Al               16474\n",
      "Ox_Fe               16474\n",
      "NUTS_0                  0\n",
      "NUTS_1                  0\n",
      "NUTS_2                  0\n",
      "NUTS_3                  0\n",
      "TH_LAT                  0\n",
      "TH_LONG                 0\n",
      "SURVEY_DATE             0\n",
      "Elev                    0\n",
      "LC                      0\n",
      "LU                      0\n",
      "LC0_Desc                0\n",
      "LC1_Desc                0\n",
      "LU1_Desc                0\n",
      "dtype: int64\n"
     ]
    }
   ],
   "source": [
    "print(df.isnull().sum())  # Count missing values per column"
   ]
  },
  {
   "cell_type": "code",
   "execution_count": 13,
   "metadata": {},
   "outputs": [
    {
     "data": {
      "image/png": "[encoded data removed]",
      "text/plain": [
       "<Figure size 1200x600 with 1 Axes>"
      ]
     },
     "metadata": {},
     "output_type": "display_data"
    }
   ],
   "source": [
    "# Visualize missing values\n",
    "plt.figure(figsize=(12, 6))\n",
    "sns.heatmap(df.isnull(), cbar=False, cmap=\"viridis\")\n",
    "plt.title(\"Missing Values Heatmap\")\n",
    "plt.show()"
   ]
  },
  {
   "cell_type": "code",
   "execution_count": 14,
   "metadata": {},
   "outputs": [
    {
     "name": "stdout",
     "output_type": "stream",
     "text": [
      "Missing Values Percentage:\n",
      "CaCO3 (20-30 cm)    99.926254\n",
      "OC (20-30 cm)       99.257269\n",
      "Ox_Al               86.778340\n",
      "Ox_Fe               86.778340\n",
      "CaCO3               40.892330\n",
      "P                    0.136957\n",
      "EC                   0.047408\n",
      "pH_CaCl2             0.005268\n",
      "pH_H2O               0.005268\n",
      "OC                   0.005268\n",
      "N                    0.005268\n",
      "K                    0.005268\n",
      "dtype: float64\n"
     ]
    }
   ],
   "source": [
    "# Missing values percentage\n",
    "missing_percentage = df.isnull().mean() * 100\n",
    "missing_percentage = missing_percentage[missing_percentage > 0]\n",
    "missing_percentage = missing_percentage.sort_values(ascending=False)\n",
    "print(\"Missing Values Percentage:\")\n",
    "print(missing_percentage)"
   ]
  },
  {
   "cell_type": "code",
   "execution_count": 15,
   "metadata": {},
   "outputs": [
    {
     "name": "stdout",
     "output_type": "stream",
     "text": [
      "Columns dropped due to missing values: ['CaCO3 (20-30 cm)', 'OC (20-30 cm)', 'Ox_Al', 'Ox_Fe', 'CaCO3']\n"
     ]
    }
   ],
   "source": [
    "# drop missing columns over 80%\n",
    "missing_threshold = 0.8\n",
    "missing_cols = missing_percentage[missing_percentage > missing_threshold].index\n",
    "df.drop(columns=missing_cols, inplace=True)\n",
    "print(f\"Columns dropped due to missing values: {missing_cols.tolist()}\")"
   ]
  },
  {
   "cell_type": "code",
   "execution_count": 16,
   "metadata": {},
   "outputs": [
    {
     "name": "stdout",
     "output_type": "stream",
     "text": [
      "Remaining columns: ['Depth', 'POINTID', 'pH_CaCl2', 'pH_H2O', 'EC', 'OC', 'P', 'N', 'K', 'NUTS_0', 'NUTS_1', 'NUTS_2', 'NUTS_3', 'TH_LAT', 'TH_LONG', 'SURVEY_DATE', 'Elev', 'LC', 'LU', 'LC0_Desc', 'LC1_Desc', 'LU1_Desc']\n",
      "Depth           0\n",
      "POINTID         0\n",
      "pH_CaCl2        1\n",
      "pH_H2O          1\n",
      "EC              9\n",
      "OC              1\n",
      "P              26\n",
      "N               1\n",
      "K               1\n",
      "NUTS_0          0\n",
      "NUTS_1          0\n",
      "NUTS_2          0\n",
      "NUTS_3          0\n",
      "TH_LAT          0\n",
      "TH_LONG         0\n",
      "SURVEY_DATE     0\n",
      "Elev            0\n",
      "LC              0\n",
      "LU              0\n",
      "LC0_Desc        0\n",
      "LC1_Desc        0\n",
      "LU1_Desc        0\n",
      "dtype: int64\n"
     ]
    },
    {
     "name": "stderr",
     "output_type": "stream",
     "text": [
      "/var/folders/d5/tjnvwpgj1yddg5dlp5dr9wqr0000gn/T/ipykernel_79295/3989298623.py:9: FutureWarning: A value is trying to be set on a copy of a DataFrame or Series through chained assignment using an inplace method.\n",
      "The behavior will change in pandas 3.0. This inplace method will never work because the intermediate object on which we are setting values always behaves as a copy.\n",
      "\n",
      "For example, when doing 'df[col].method(value, inplace=True)', try using 'df.method({col: value}, inplace=True)' or df[col] = df[col].method(value) instead, to perform the operation inplace on the original object.\n",
      "\n",
      "\n",
      "  data[col].fillna(data[col].mean(), inplace=True)\n",
      "/var/folders/d5/tjnvwpgj1yddg5dlp5dr9wqr0000gn/T/ipykernel_79295/3989298623.py:13: FutureWarning: A value is trying to be set on a copy of a DataFrame or Series through chained assignment using an inplace method.\n",
      "The behavior will change in pandas 3.0. This inplace method will never work because the intermediate object on which we are setting values always behaves as a copy.\n",
      "\n",
      "For example, when doing 'df[col].method(value, inplace=True)', try using 'df.method({col: value}, inplace=True)' or df[col] = df[col].method(value) instead, to perform the operation inplace on the original object.\n",
      "\n",
      "\n",
      "  data[col].fillna(data[col].mode()[0], inplace=True)\n"
     ]
    }
   ],
   "source": [
    "print(f\"Remaining columns: {df.columns.tolist()}\")\n",
    "print(df.isnull().sum())  # Count missing values per column\n",
    "\n",
    "\n",
    "# Fillup missing values\n",
    "def fill_missing_values(data):\n",
    "    # Fill missing values for numerical columns with the mean\n",
    "    for col in data.select_dtypes(include=[\"float64\"]).columns:\n",
    "        data[col].fillna(data[col].mean(), inplace=True)\n",
    "\n",
    "    # Fill missing values for categorical columns with the mode\n",
    "    for col in data.select_dtypes(include=[\"object\"]).columns:\n",
    "        data[col].fillna(data[col].mode()[0], inplace=True)\n",
    "\n",
    "    return data\n",
    "\n",
    "\n",
    "df = fill_missing_values(df)"
   ]
  },
  {
   "cell_type": "code",
   "execution_count": 17,
   "metadata": {},
   "outputs": [
    {
     "name": "stdout",
     "output_type": "stream",
     "text": [
      "Depth          0\n",
      "POINTID        0\n",
      "pH_CaCl2       0\n",
      "pH_H2O         0\n",
      "EC             0\n",
      "OC             0\n",
      "P              0\n",
      "N              0\n",
      "K              0\n",
      "NUTS_0         0\n",
      "NUTS_1         0\n",
      "NUTS_2         0\n",
      "NUTS_3         0\n",
      "TH_LAT         0\n",
      "TH_LONG        0\n",
      "SURVEY_DATE    0\n",
      "Elev           0\n",
      "LC             0\n",
      "LU             0\n",
      "LC0_Desc       0\n",
      "LC1_Desc       0\n",
      "LU1_Desc       0\n",
      "dtype: int64\n"
     ]
    }
   ],
   "source": [
    "print(df.isnull().sum())  # Count missing values per column"
   ]
  },
  {
   "cell_type": "code",
   "execution_count": 18,
   "metadata": {},
   "outputs": [
    {
     "name": "stdout",
     "output_type": "stream",
     "text": [
      "   Depth   POINTID  pH_CaCl2  pH_H2O     EC    OC     P    N     K  NUTS_0  \\\n",
      "0      1  47862690       4.1    4.81   8.73   186  1267   12    26       0   \n",
      "1      1  47882704       4.1    4.93   5.06   455  1267   15  3954       0   \n",
      "2      1  47982688       4.1    4.85  12.53  1533   164  221   220       0   \n",
      "3      1  48022702       5.5    5.80  21.10   932  1267  127   836       0   \n",
      "4      1  48062708       6.1    6.48  10.89   605  1267  131  3362       0   \n",
      "\n",
      "   ...  NUTS_3     TH_LAT    TH_LONG  SURVEY_DATE  Elev  LC  LU  LC0_Desc  \\\n",
      "0  ...       2  47.150238  16.134212           44   291  47   3         7   \n",
      "1  ...       2  47.274272  16.175359           44   373  45   3         7   \n",
      "2  ...       2  47.123260  16.289693            9   246  50   3         7   \n",
      "3  ...       2  47.245693  16.357506           44   305  46   3         7   \n",
      "4  ...       2  47.296372  16.416782           36   335  46   3         7   \n",
      "\n",
      "   LC1_Desc  LU1_Desc  \n",
      "0        32        12  \n",
      "1        55        12  \n",
      "2        36        12  \n",
      "3        42        12  \n",
      "4        42        12  \n",
      "\n",
      "[5 rows x 22 columns]\n"
     ]
    }
   ],
   "source": [
    "# Label encoding for categorical columns\n",
    "from sklearn.preprocessing import LabelEncoder\n",
    "\n",
    "\n",
    "def label_encode(data):\n",
    "    le = LabelEncoder()\n",
    "    for col in data.select_dtypes(include=[\"object\"]).columns:\n",
    "        data[col] = le.fit_transform(data[col])\n",
    "    return data\n",
    "\n",
    "\n",
    "df = label_encode(df)\n",
    "print(df.head())"
   ]
  },
  {
   "cell_type": "code",
   "execution_count": 19,
   "metadata": {},
   "outputs": [],
   "source": [
    "# Scale numerical features\n",
    "from sklearn.preprocessing import StandardScaler\n",
    "\n",
    "\n",
    "# def scale_numerical_features(data):\n",
    "#     scaler = StandardScaler()\n",
    "#     for col in data.select_dtypes(include=[\"float64\"]).columns:\n",
    "#         data[col] = scaler.fit_transform(data[[col]])\n",
    "#     return data\n",
    "\n",
    "\n",
    "# df = scale_numerical_features(df)\n",
    "# print(df.head())"
   ]
  },
  {
   "cell_type": "code",
   "execution_count": 20,
   "metadata": {},
   "outputs": [
    {
     "data": {
      "text/plain": [
       "Index(['Depth', 'POINTID', 'pH_CaCl2', 'pH_H2O', 'EC', 'OC', 'P', 'N', 'K',\n",
       "       'NUTS_0', 'NUTS_1', 'NUTS_2', 'NUTS_3', 'TH_LAT', 'TH_LONG',\n",
       "       'SURVEY_DATE', 'Elev', 'LC', 'LU', 'LC0_Desc', 'LC1_Desc', 'LU1_Desc'],\n",
       "      dtype='object')"
      ]
     },
     "execution_count": 20,
     "metadata": {},
     "output_type": "execute_result"
    }
   ],
   "source": [
    "df.columns"
   ]
  },
  {
   "cell_type": "code",
   "execution_count": 21,
   "metadata": {},
   "outputs": [
    {
     "name": "stdout",
     "output_type": "stream",
     "text": [
      "Features shape: (18984, 20)\n",
      "Target shape: (18984,)\n",
      "X_train shape: (15187, 20)\n",
      "X_test shape: (3797, 20)\n",
      "y_train shape: (15187,)\n",
      "y_test shape: (3797,)\n"
     ]
    }
   ],
   "source": [
    "from sklearn.model_selection import train_test_split\n",
    "\n",
    "# Split the dataset into features and target variable\n",
    "X = df.drop(columns=[\"pH_H2O\", \"pH_CaCl2\"])\n",
    "y = df[\"pH_H2O\"]\n",
    "print(\"Features shape:\", X.shape)\n",
    "print(\"Target shape:\", y.shape)\n",
    "# Train-test split\n",
    "\n",
    "X_train, X_test, y_train, y_test = train_test_split(\n",
    "    X, y, test_size=0.2, random_state=42\n",
    ")\n",
    "print(\"X_train shape:\", X_train.shape)\n",
    "print(\"X_test shape:\", X_test.shape)\n",
    "print(\"y_train shape:\", y_train.shape)\n",
    "print(\"y_test shape:\", y_test.shape)"
   ]
  },
  {
   "cell_type": "code",
   "execution_count": 22,
   "metadata": {},
   "outputs": [],
   "source": [
    "# Model training\n",
    "from sklearn.linear_model import LinearRegression\n",
    "from sklearn.ensemble import RandomForestRegressor\n",
    "from sklearn.svm import SVR\n",
    "from sklearn.tree import DecisionTreeRegressor\n",
    "from sklearn.neighbors import KNeighborsRegressor\n",
    "from sklearn.pipeline import Pipeline\n",
    "from sklearn.compose import ColumnTransformer\n",
    "from sklearn.metrics import mean_squared_error, r2_score\n",
    "\n",
    "# Define the models\n",
    "models = {\n",
    "    \"Linear Regression\": LinearRegression(),\n",
    "    \"Random Forest\": RandomForestRegressor(),\n",
    "    \"Support Vector Regression\": SVR(),\n",
    "    \"Decision Tree\": DecisionTreeRegressor(),\n",
    "    \"K-Nearest Neighbors\": KNeighborsRegressor(),\n",
    "}\n",
    "# Initialize a dictionary to store the results\n",
    "results = {}\n",
    "# Iterate through the models\n",
    "for model_name, model in models.items():\n",
    "    # Create a pipeline with preprocessing and the model\n",
    "    pipeline = Pipeline(\n",
    "        [\n",
    "            (\n",
    "                \"preprocessor\",\n",
    "                ColumnTransformer(\n",
    "                    transformers=[\n",
    "                        (\n",
    "                            \"num\",\n",
    "                            StandardScaler(),\n",
    "                            X.select_dtypes(include=[\"float64\"]).columns,\n",
    "                        ),\n",
    "                        (\n",
    "                            \"cat\",\n",
    "                            \"passthrough\",\n",
    "                            X.select_dtypes(include=[\"int64\"]).columns,\n",
    "                        ),\n",
    "                    ]\n",
    "                ),\n",
    "            ),\n",
    "            (\"model\", model),\n",
    "        ]\n",
    "    )\n",
    "\n",
    "    # Fit the pipeline on the training data\n",
    "    pipeline.fit(X_train, y_train)\n",
    "\n",
    "    # Make predictions on the test data\n",
    "    y_pred = pipeline.predict(X_test)\n",
    "\n",
    "    # Calculate metrics\n",
    "    mse = mean_squared_error(y_test, y_pred)\n",
    "    r2 = r2_score(y_test, y_pred)\n",
    "\n",
    "    # Store the results\n",
    "    results[model_name] = {\"MSE\": mse, \"R2\": r2}"
   ]
  },
  {
   "cell_type": "code",
   "execution_count": 23,
   "metadata": {},
   "outputs": [
    {
     "name": "stdout",
     "output_type": "stream",
     "text": [
      "Model Performance:\n",
      "Linear Regression: MSE = 0.7593, R2 = 0.5732\n",
      "Random Forest: MSE = 0.3756, R2 = 0.7889\n",
      "Support Vector Regression: MSE = 1.5817, R2 = 0.1110\n",
      "Decision Tree: MSE = 0.7380, R2 = 0.5852\n",
      "K-Nearest Neighbors: MSE = 1.4391, R2 = 0.1911\n"
     ]
    },
    {
     "data": {
      "image/png": "[encoded data removed]",
      "text/plain": [
       "<Figure size 1000x500 with 1 Axes>"
      ]
     },
     "metadata": {},
     "output_type": "display_data"
    }
   ],
   "source": [
    "print(\"Model Performance:\")\n",
    "for model_name, metrics in results.items():\n",
    "    print(f\"{model_name}: MSE = {metrics['MSE']:.4f}, R2 = {metrics['R2']:.4f}\")\n",
    "# Visualize the results\n",
    "plt.figure(figsize=(10, 5))\n",
    "sns.barplot(\n",
    "    x=list(results.keys()),\n",
    "    y=[metrics[\"R2\"] for metrics in results.values()],\n",
    ")\n",
    "plt.title(\"Model Performance (R2 Score)\")\n",
    "plt.ylabel(\"R2 Score\")\n",
    "plt.xlabel(\"Models\")\n",
    "plt.xticks(rotation=45)\n",
    "plt.tight_layout()\n",
    "plt.show()"
   ]
  }
 ],
 "metadata": {
  "kernelspec": {
   "display_name": "Python 3",
   "language": "python",
   "name": "python3"
  },
  "language_info": {
   "codemirror_mode": {
    "name": "ipython",
    "version": 3
   },
   "file_extension": ".py",
   "mimetype": "text/x-python",
   "name": "python",
   "nbconvert_exporter": "python",
   "pygments_lexer": "ipython3",
   "version": "3.12.9"
  }
 },
 "nbformat": 4,
 "nbformat_minor": 2
}
